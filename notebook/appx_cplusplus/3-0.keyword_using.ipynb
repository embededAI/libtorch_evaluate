{
 "cells": [
  {
   "cell_type": "code",
   "execution_count": 1,
   "id": "horizontal-courage",
   "metadata": {},
   "outputs": [],
   "source": [
    "#include <iostream>\n",
    "#include <vector>  \n",
    "#include <map>\n",
    "#include <cstring>\n",
    "\n",
    "/*a workaround to solve cling issue*/\n",
    "#include \"../macos_cling_workaround.hpp\"\n",
    "/*set libtorch path, load libs*/\n",
    "#include \"../load_libtorch.hpp\"\n",
    "/*import custom defined macros*/\n",
    "#include \"../custom_def.hpp\"\n",
    "/*import libtorch header file*/\n",
    "#include <torch/torch.h>\n",
    "\n",
    "std::cout << std::boolalpha;"
   ]
  },
  {
   "cell_type": "markdown",
   "id": "recorded-rugby",
   "metadata": {},
   "source": [
    "# 一般用法：using 声明\n",
    "\n",
    "using 声明 (using declaration) 是将命名空间中单个名字注入到当前作用域的机制，使得在当前作用域下访问另一个作用域下的成员时无需使用限定符 ::。\n",
    "\n",
    "语法：\n",
    "> using namespace::name;\n",
    "\n",
    "\n",
    "例如 PyTorch 中，\"c10/core/DeviceType.h\", line 76：  \n",
    "> using c10::DeviceType;    \n",
    "> constexpr DeviceType kCPU = DeviceType::CPU;    \n",
    "> constexpr DeviceType kCUDA = DeviceType::CUDA;"
   ]
  },
  {
   "cell_type": "code",
   "execution_count": 2,
   "id": "respective-cooking",
   "metadata": {},
   "outputs": [],
   "source": [
    "using std::cin;"
   ]
  },
  {
   "cell_type": "code",
   "execution_count": 3,
   "id": "structural-dryer",
   "metadata": {},
   "outputs": [
    {
     "name": "stdout",
     "output_type": "stream",
     "text": [
      "12\n",
      "\n",
      "===>>\n",
      "your input is 12\n"
     ]
    }
   ],
   "source": [
    "int i;\n",
    "cin >> i;\n",
    "\n",
    "std::cout << std::endl << \"===>>\" << std::endl << \"your input is \" << i << std::endl;\n",
    "\n",
    "\n",
    "//Here you can't call std::cout as cout as below code:\n",
    "//   cout << \"bla bla bla ...\";"
   ]
  },
  {
   "cell_type": "markdown",
   "id": "accepting-dividend",
   "metadata": {},
   "source": [
    "### 头文件不应包含using声明\n",
    "\n",
    "位于头文件的代码一般来说不应该使用using声明。这是因为头文件的内容会拷贝到所有引用它的文件中去，如果头文件里有某个using声明，那么每个使用了该头文件的文件就都会有这个声明。对于某些程序来说，由于不经意间包含了一些名字，反而可能产生始料未及的名字冲突。"
   ]
  },
  {
   "cell_type": "markdown",
   "id": "lasting-transmission",
   "metadata": {},
   "source": [
    "# 用法2：using 指示 (引入命名空间)\n",
    "\n",
    "using 指示 (using directive) 是使一个命名空间中的所有名字都在该作用域中可见的机制。这是最常用的方式了。    \n",
    "***需要注意的是命名冲突问题。***\n",
    "\n",
    "例如PyTorch中, \"c10/util/Logging.h\", line 221:    \n",
    ">using namespace ::c10::enforce_detail;"
   ]
  },
  {
   "cell_type": "code",
   "execution_count": 4,
   "id": "compact-cleveland",
   "metadata": {},
   "outputs": [],
   "source": [
    "namespace n1{ \n",
    "    int n1_member = 10; \n",
    "    int m = 11; \n",
    "}\n",
    "\n",
    "int m = 12;"
   ]
  },
  {
   "cell_type": "code",
   "execution_count": 5,
   "id": "southeast-checklist",
   "metadata": {},
   "outputs": [
    {
     "name": "stdout",
     "output_type": "stream",
     "text": [
      "n1_member = \n",
      "10\n",
      "<<--->>\n",
      "\n",
      "::m = \n",
      "12\n",
      "<<--->>\n",
      "\n",
      "m = \n",
      "13\n",
      "<<--->>\n",
      "\n"
     ]
    }
   ],
   "source": [
    "using namespace n1; \n",
    "// std::cout<<n1_member<<std::endl;\n",
    "\n",
    "printT(n1_member);\n",
    "// std::cout<<m<<std::endl;  //error 命名冲突\n",
    "printT(::m);\n",
    "\n",
    "int m = 13; //ok, 局部变量屏蔽命名空间变量\n",
    "printT(m);"
   ]
  },
  {
   "cell_type": "markdown",
   "id": "dominican-modem",
   "metadata": {},
   "source": [
    "# 用法3：类型重定义，取代 typedef\n",
    "\n",
    "语法：\n",
    "> using alias = typename\n",
    "\n",
    "这是 C++11 中的新用法，比 typedef 更能表达别名的定义。\n",
    "\n",
    "\n",
    "例如PyTorch中, \"c10/util/variant.h\", line 2848:    \n",
    ">using result_type = std::size_t;"
   ]
  },
  {
   "cell_type": "code",
   "execution_count": 6,
   "id": "liked-checklist",
   "metadata": {},
   "outputs": [],
   "source": [
    "int test(int a, int b)\n",
    "{\n",
    "    return (a+b);\n",
    "}"
   ]
  },
  {
   "cell_type": "code",
   "execution_count": 7,
   "id": "overhead-offer",
   "metadata": {},
   "outputs": [
    {
     "name": "stdout",
     "output_type": "stream",
     "text": [
      "sizeof(int16) = \n",
      "2\n",
      "<<--->>\n",
      "\n",
      "fp(3,9) = \n",
      "12\n",
      "<<--->>\n",
      "\n"
     ]
    }
   ],
   "source": [
    "using func_ptr = int (*)(int, int);    //等价于： typedef void (*func_ptr)(int, int);\n",
    "using int16 = short;    //等价于： typedef short int16; \n",
    "\n",
    "printT(sizeof(int16));\n",
    "\n",
    "func_ptr fp = test;\n",
    "printT(fp(3,9));"
   ]
  },
  {
   "cell_type": "code",
   "execution_count": 8,
   "id": "ranging-michigan",
   "metadata": {},
   "outputs": [],
   "source": [
    "//在C++11 中，我们可以使用 using 重定义模板\n",
    "\n",
    "template<typename Val>\n",
    "using int_map_t = std::map<int, Val>;\n",
    "\n",
    "int_map_t<std::string> imap;"
   ]
  },
  {
   "cell_type": "code",
   "execution_count": 9,
   "id": "supported-bacon",
   "metadata": {},
   "outputs": [
    {
     "name": "stdout",
     "output_type": "stream",
     "text": [
      "0 => Sunday\n",
      "1 => Monday\n",
      "2 => Tuesday\n",
      "3 => Wednesday\n"
     ]
    }
   ],
   "source": [
    "//initializing\n",
    "imap[0]=\"Sunday\";\n",
    "imap[1]=\"Monday\";\n",
    "imap[2]=\"Tuesday\";\n",
    "imap[3]=\"Wednesday\";\n",
    "\n",
    "// std::map<int, std::string>::iterator it;\n",
    "// std::map<int, std::string>::iterator it;\n",
    "// for(it=imap.begin(); it!=imap.end(); ++it){\n",
    "for (auto&& [first,second] : imap) {\n",
    "    std::cout << first << \" => \" << second << '\\n';\n",
    "}"
   ]
  },
  {
   "cell_type": "code",
   "execution_count": null,
   "id": "established-chocolate",
   "metadata": {},
   "outputs": [],
   "source": []
  }
 ],
 "metadata": {
  "kernelspec": {
   "display_name": "C++17",
   "language": "C++17",
   "name": "xcpp17"
  },
  "language_info": {
   "codemirror_mode": "text/x-c++src",
   "file_extension": ".cpp",
   "mimetype": "text/x-c++src",
   "name": "c++",
   "version": "17"
  }
 },
 "nbformat": 4,
 "nbformat_minor": 5
}
