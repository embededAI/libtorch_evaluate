{
 "cells": [
  {
   "cell_type": "code",
   "execution_count": 1,
   "id": "cheap-algorithm",
   "metadata": {},
   "outputs": [],
   "source": [
    "#include \"stdio.h\"\n",
    "#include \"stdlib.h\"\n",
    "#include <iostream>\n",
    "\n",
    "/*a workaround to solve cling issue*/\n",
    "#include \"../macos_cling_workaround.hpp\"\n",
    "/*set libtorch path, load libs*/\n",
    "#include \"../load_libtorch.hpp\"\n",
    "#include <torch/torch.h>"
   ]
  },
  {
   "cell_type": "markdown",
   "id": "round-dinner",
   "metadata": {},
   "source": [
    "# 1.创建一个Tensor"
   ]
  },
  {
   "cell_type": "markdown",
   "id": "large-project",
   "metadata": {},
   "source": [
    "创建未初始化的tensor："
   ]
  },
  {
   "cell_type": "code",
   "execution_count": 2,
   "id": "electrical-hopkins",
   "metadata": {},
   "outputs": [
    {
     "name": "stdout",
     "output_type": "stream",
     "text": [
      " 8.3140e+18\n",
      " 5.9943e+18\n",
      " 8.1046e+18\n",
      "[ CPULongType{3} ]\n"
     ]
    }
   ],
   "source": [
    "torch::Tensor t1 = torch::empty(3, torch::kInt64);\n",
    "\n",
    "std::cout << t1 << std::endl;"
   ]
  },
  {
   "cell_type": "code",
   "execution_count": 3,
   "id": "handmade-research",
   "metadata": {},
   "outputs": [
    {
     "name": "stdout",
     "output_type": "stream",
     "text": [
      "      4   32698       0  262147 -1.59227e+09   32698\n",
      "-1.59227e+09   32698 -1.59433e+09   32698 -1.59227e+09   32698\n",
      "      1       0 -1.59396e+09   32698       3   32698\n",
      "-1.59226e+09   32698       0 -1.61061e+09 -1.44183e+09 -1.07374e+09\n",
      "-1.59233e+09   32698       1       0       2       0\n",
      "[ CPUIntType{5,6} ]\n"
     ]
    }
   ],
   "source": [
    "torch::Tensor t2 = torch::empty({5,6}, torch::kInt32);\n",
    "std::cout << t2 << std::endl;"
   ]
  },
  {
   "cell_type": "code",
   "execution_count": 4,
   "id": "foreign-italian",
   "metadata": {},
   "outputs": [
    {
     "name": "stdout",
     "output_type": "stream",
     "text": [
      "(1,.,.) = \n",
      "   95   46\n",
      "   95   90\n",
      "   78   53\n",
      "  116  111\n",
      "\n",
      "(2,.,.) = \n",
      "  114   99\n",
      "  104   56\n",
      "   97  117\n",
      "  116  111\n",
      "\n",
      "(3,.,.) = \n",
      "  103  114\n",
      "   97  100\n",
      "   49   50\n",
      "   65  117\n",
      "[ CPUCharType{3,4,2} ]\n"
     ]
    }
   ],
   "source": [
    "torch::Tensor t3 = torch::empty({3,4,2}, torch::kInt8);\n",
    "std::cout << t3 << std::endl;"
   ]
  },
  {
   "cell_type": "markdown",
   "id": "competitive-stocks",
   "metadata": {},
   "source": [
    "创建值为0的tensor："
   ]
  },
  {
   "cell_type": "code",
   "execution_count": 5,
   "id": "local-shock",
   "metadata": {},
   "outputs": [
    {
     "name": "stdout",
     "output_type": "stream",
     "text": [
      " 0  0  0  0\n",
      " 0  0  0  0\n",
      " 0  0  0  0\n",
      "[ CPUFloatType{3,4} ]\n",
      " 0  0  0  0\n",
      " 0  0  0  0\n",
      " 0  0  0  0\n",
      "[ CPUIntType{3,4} ]\n"
     ]
    }
   ],
   "source": [
    "torch::Tensor x = torch::zeros({3, 4});\n",
    "std::cout << x << std::endl;\n",
    "\n",
    "torch::Tensor y = torch::zeros({3, 4}, torch::kInt);\n",
    "std::cout << y << std::endl;"
   ]
  },
  {
   "cell_type": "markdown",
   "id": "horizontal-labor",
   "metadata": {},
   "source": [
    "创建值为随机数的tensor："
   ]
  },
  {
   "cell_type": "code",
   "execution_count": 6,
   "id": "rolled-personality",
   "metadata": {},
   "outputs": [
    {
     "name": "stdout",
     "output_type": "stream",
     "text": [
      " 0.9316  0.3603  0.4244  0.7145\n",
      " 0.3084  0.1115  0.0910  0.3234\n",
      " 0.1561  0.4228  0.1366  0.3448\n",
      "[ CPUFloatType{3,4} ]\n",
      "<<<=========>>>\n",
      "\n",
      " 0.1364  0.4437  0.4620  0.7042\n",
      " 0.7517  0.7092  0.7386  0.1038\n",
      " 0.4672  0.4118  0.0354  0.0548\n",
      "[ CPUDoubleType{3,4} ]\n",
      "<<<=========>>>\n",
      "\n",
      "(1,.,.) = \n",
      "  0.3148  0.0204  1.8046  0.3619\n",
      "  0.7671  0.9303 -0.5180  1.0040\n",
      " -0.6480 -0.7978  1.2555 -0.9101\n",
      "\n",
      "(2,.,.) = \n",
      "  1.3373  0.5215  1.1415 -1.7563\n",
      "  0.5426 -0.1113  0.0532 -0.2123\n",
      " -1.4324 -0.7755  0.6674  0.1890\n",
      "\n",
      "(3,.,.) = \n",
      "  1.2514  1.4398 -0.4136 -0.7535\n",
      "  0.5899 -0.1638  1.2922 -1.1142\n",
      "  0.4097  0.4343  1.0103 -1.2200\n",
      "\n",
      "(4,.,.) = \n",
      " -0.5092 -0.2616 -1.7434 -0.2984\n",
      " -1.1092 -1.8602 -0.2111  1.1354\n",
      "  2.7976  0.6200 -1.5034  0.2607\n",
      "\n",
      "(5,.,.) = \n",
      "  0.4729 -0.4211 -1.4476  0.2703\n",
      " -1.7286 -0.6216  1.8239 -2.0770\n",
      " -2.3602  0.3061 -2.9025  0.1346\n",
      "[ CPUFloatType{5,3,4} ]\n",
      "<<<=========>>>\n",
      "\n"
     ]
    }
   ],
   "source": [
    "torch::Tensor x = torch::rand({3, 4});\n",
    "std::cout << x << std::endl;\n",
    "std::cout << \"<<<=========>>>\" << std::endl << std::endl;\n",
    "\n",
    "torch::Tensor y = torch::rand({3, 4}, torch::kFloat64);\n",
    "std::cout << y << std::endl;\n",
    "std::cout << \"<<<=========>>>\" << std::endl << std::endl;\n",
    "\n",
    "torch::Tensor z = torch::randn({5, 3, 4}, torch::kFloat32);\n",
    "std::cout << z << std::endl;\n",
    "std::cout << \"<<<=========>>>\" << std::endl << std::endl;"
   ]
  },
  {
   "cell_type": "markdown",
   "id": "respected-comparative",
   "metadata": {},
   "source": [
    "根据已有tensor创建新的tensor："
   ]
  },
  {
   "cell_type": "code",
   "execution_count": 7,
   "id": "imperial-georgia",
   "metadata": {},
   "outputs": [
    {
     "name": "stdout",
     "output_type": "stream",
     "text": [
      " 3  3  3\n",
      " 3  3  3\n",
      " 3  3  3\n",
      "[ CPUFloatType{3,3} ]\n",
      "<<<=========>>>\n",
      "\n"
     ]
    }
   ],
   "source": [
    "torch::Tensor t = torch::ones({3,3});\n",
    "t += 2;\n",
    "\n",
    "\n",
    "torch::Tensor a(t);\n",
    "std::cout << a << std::endl;\n",
    "std::cout << \"<<<=========>>>\" << std::endl << std::endl;"
   ]
  },
  {
   "cell_type": "code",
   "execution_count": 8,
   "id": "respective-karen",
   "metadata": {},
   "outputs": [
    {
     "name": "stdout",
     "output_type": "stream",
     "text": [
      " 2.5154 -0.3320 -0.2869\n",
      " 0.2237 -1.8562 -0.3705\n",
      "-0.7760  1.2093 -0.3157\n",
      " 1.0249 -0.4432  0.1899\n",
      " 0.4012 -0.5514  0.4836\n",
      "[ CPUFloatType{5,3} ]\n",
      "<<<=========>>>\n",
      "\n"
     ]
    }
   ],
   "source": [
    "torch::Tensor a = torch::ones({5,3});\n",
    "a = torch::randn_like(a);\n",
    "\n",
    "std::cout << a << std::endl;\n",
    "std::cout << \"<<<=========>>>\" << std::endl << std::endl;"
   ]
  },
  {
   "cell_type": "markdown",
   "id": "global-sapphire",
   "metadata": {},
   "source": [
    "# 2. Tensor的相关运算"
   ]
  },
  {
   "cell_type": "markdown",
   "id": "south-rates",
   "metadata": {},
   "source": [
    "## 2.1 加法运算"
   ]
  },
  {
   "cell_type": "code",
   "execution_count": 19,
   "id": "national-coating",
   "metadata": {},
   "outputs": [
    {
     "name": "stdout",
     "output_type": "stream",
     "text": [
      "x =\n",
      " 1  1  1\n",
      " 1  1  1\n",
      " 1  1  1\n",
      " 1  1  1\n",
      " 1  1  1\n",
      "[ CPUFloatType{5,3} ]\n",
      "\n",
      "y =\n",
      "-0.4342  0.4025 -1.1347\n",
      "-0.6327 -0.9811  0.0020\n",
      "-0.0682 -0.9280  0.3189\n",
      " 2.7281  0.6704 -0.6495\n",
      " 0.2655 -1.3120 -1.3697\n",
      "[ CPUFloatType{5,3} ]\n",
      "\n",
      "x+y =\n",
      " 0.5658  1.4025 -0.1347\n",
      " 0.3673  0.0189  1.0020\n",
      " 0.9318  0.0720  1.3189\n",
      " 3.7281  1.6704  0.3505\n",
      " 1.2655 -0.3120 -0.3697\n",
      "[ CPUFloatType{5,3} ]\n",
      "<<<=========>>>\n",
      "\n",
      "torch::add(x,y) =\n",
      " 0.5658  1.4025 -0.1347\n",
      " 0.3673  0.0189  1.0020\n",
      " 0.9318  0.0720  1.3189\n",
      " 3.7281  1.6704  0.3505\n",
      " 1.2655 -0.3120 -0.3697\n",
      "[ CPUFloatType{5,3} ]\n",
      "<<<=========>>>\n",
      "\n",
      "y.add_(x) =\n",
      " 0.5658  1.4025 -0.1347\n",
      " 0.3673  0.0189  1.0020\n",
      " 0.9318  0.0720  1.3189\n",
      " 3.7281  1.6704  0.3505\n",
      " 1.2655 -0.3120 -0.3697\n",
      "[ CPUFloatType{5,3} ]\n",
      "<<<=========>>>\n",
      "\n"
     ]
    }
   ],
   "source": [
    "torch::Tensor x = torch::ones({5,3});\n",
    "torch::Tensor y = torch::randn({5,3});\n",
    "\n",
    "std::cout << \"x =\" << std::endl;\n",
    "std::cout << (x) << std::endl << std::endl;\n",
    "\n",
    "std::cout << \"y =\" << std::endl;\n",
    "std::cout << (y) << std::endl << std::endl;\n",
    "\n",
    "std::cout << \"x+y =\" << std::endl;\n",
    "std::cout << (x+y) << std::endl;\n",
    "std::cout << \"<<<=========>>>\" << std::endl << std::endl;\n",
    "\n",
    "std::cout << \"torch::add(x,y) =\" << std::endl;\n",
    "std::cout << torch::add(x,y) << std::endl;\n",
    "std::cout << \"<<<=========>>>\" << std::endl << std::endl;\n",
    "\n",
    "std::cout << \"y.add_(x) =\" << std::endl;\n",
    "std::cout << y.add_(x) << std::endl;\n",
    "std::cout << \"<<<=========>>>\" << std::endl << std::endl;"
   ]
  },
  {
   "cell_type": "markdown",
   "id": "effective-college",
   "metadata": {},
   "source": [
    "# 3. 引申内容 - Part 1：PYTORCH C++ API的组成"
   ]
  },
  {
   "cell_type": "markdown",
   "id": "willing-tuesday",
   "metadata": {},
   "source": [
    "截止到PyTorch 1.7.1版本，其C++ API由5大部分组成，如下表所示：\n",
    "\n",
    "| 命名空间 | 功能描述  |\n",
    "| :----: | :---- |\n",
    "| **ATen**   | The foundational tensor and mathematical operation library on which all else is built. |\n",
    "| **Autograd**   | Augments ATen with automatic differentiation. |\n",
    "| **C++ Frontend**   | High level constructs for training and evaluation of machine learning models. |\n",
    "| **TorchScript**   | An interface to the TorchScript JIT compiler and interpreter. |\n",
    "| **C++ Extensions**   | A means of extending the Python API with custom C++ and CUDA routines. |\n"
   ]
  },
  {
   "cell_type": "markdown",
   "id": "extended-proxy",
   "metadata": {},
   "source": [
    "## ATen\n",
    "ATen是一个基础的tensor库，PyTorch中Python和C++接口函数都是构建在这个库的基础上的。它提供了一个Tensor类，在这个类中定义了上百中tensor的相关操作，多数操作可以同时支持CPU和GPU实现，Tensor类可以根据数据类型来动态指定在哪种处理器上执行操作。其命名空间为at::。下面是个简单的例子："
   ]
  },
  {
   "cell_type": "code",
   "execution_count": 10,
   "id": "seventh-shannon",
   "metadata": {},
   "outputs": [
    {
     "name": "stdout",
     "output_type": "stream",
     "text": [
      "a = \n",
      " 1  1\n",
      " 1  1\n",
      "[ CPUIntType{2,2} ]\n",
      "b = \n",
      " 0.1778 -0.3870\n",
      "-3.1225 -0.3888\n",
      "[ CPUFloatType{2,2} ]\n",
      "c = \n",
      " 1  1\n",
      "-2  1\n",
      "[ CPUIntType{2,2} ]\n"
     ]
    }
   ],
   "source": [
    "#include <ATen/ATen.h>\n",
    "\n",
    "at::Tensor a = at::ones({2, 2}, at::kInt);\n",
    "std::cout << \"a = \" << std::endl << a << std::endl;\n",
    "at::Tensor b = at::randn({2, 2}, at::kFloat);\n",
    "std::cout << \"b = \" << std::endl << b << std::endl;\n",
    "auto c = a + b.to(at::kInt);\n",
    "std::cout << \"c = \" << std::endl << c << std::endl;\n"
   ]
  },
  {
   "cell_type": "markdown",
   "id": "intended-unknown",
   "metadata": {},
   "source": [
    "## Autograd\n",
    "autograd是PyTorch C++ API的一部分，属于对ATen的Tensor类的功能增强，使其具备自动化微分功能。autograd系统会记录tensor上的操作，进而形成一个autograd graph。调用tensor变量的backwards()函数会产生逆向的差分运算。\n",
    "注意：ATen中的at::Tensor类默认并不具备微分功能。为了使tensors具备可微分功能，你必须使用tensor的工厂方法，即调用torch::命名空间的函数，而不是去直接调用at::命名空间的函数。比如，at::ones()函数产生的tensor是不具备可微分功能的，但是torch::ones()函数的就可以。"
   ]
  },
  {
   "cell_type": "markdown",
   "id": "earned-berlin",
   "metadata": {},
   "source": [
    "## C++ Frontend\n",
    "PyTorch C++前端框架为神经网络和通用机器学习提供了一套纯C++的模型接口，包括：\n",
    "* 用于自定义机器学习模型的层级模型接口系统；\n",
    "* 为构建深度学习模型的常见函数库，如卷积运算，RNN，BN等；\n",
    "* 深度学习优化方法API，如SGD,Adam,RMSprop等；\n",
    "* 一种数据集和数据管道的表示方式；\n",
    "* 序列化存储和加载训练过程中checkpoints的格式；\n",
    "* 在多GPU上并行运行模型；\n",
    "* TorchScript JIT compiler的接入口；"
   ]
  },
  {
   "cell_type": "markdown",
   "id": "black-eugene",
   "metadata": {},
   "source": [
    "## TorchScript\n",
    "这是对PyTorch模型的一种表示方法。事实上，TorchScript在某种意义上是一种编程语言，是Python的一个子集。TorchScript的C++接口包含的主要功能有：\n",
    "* 加载和运行序列化TorchScript模型；\n",
    "* 提供相关API，使用户可以自定义算子；\n",
    "* TorchScript C++程序的即时编译；\n",
    "\n",
    "对于第一个功能而言，这个给用户提供了一种方法，即开发者可以使用python来编写算法并训练，训练得到的模型参数可以直接用于C++程序中，而无需使用libtorch重新编写深度学习模型并从头训练。（听着不错，但实测发现有某种程度的精度损失）。"
   ]
  },
  {
   "cell_type": "markdown",
   "id": "purple-bulletin",
   "metadata": {},
   "source": [
    "## C++ Extensions\n",
    "C++扩展提供了一种简单而有效的方法，使得开发者可以方便的访问PyTorch的上层接口。其最常见的用法是让开发者可以自定义算子。"
   ]
  },
  {
   "cell_type": "code",
   "execution_count": null,
   "id": "quality-complexity",
   "metadata": {},
   "outputs": [],
   "source": []
  }
 ],
 "metadata": {
  "kernelspec": {
   "display_name": "C++14",
   "language": "C++14",
   "name": "xcpp14"
  },
  "language_info": {
   "codemirror_mode": "text/x-c++src",
   "file_extension": ".cpp",
   "mimetype": "text/x-c++src",
   "name": "c++",
   "version": "14"
  }
 },
 "nbformat": 4,
 "nbformat_minor": 5
}
