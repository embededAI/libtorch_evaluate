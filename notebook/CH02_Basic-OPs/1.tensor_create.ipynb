{
 "cells": [
  {
   "cell_type": "code",
   "execution_count": 2,
   "id": "cheap-algorithm",
   "metadata": {},
   "outputs": [],
   "source": [
    "#include \"stdio.h\"\n",
    "#include \"stdlib.h\"\n",
    "#include <iostream>\n",
    "#include <vector>\n",
    "\n",
    "/*a workaround to solve cling issue*/\n",
    "#include \"../macos_cling_workaround.hpp\"\n",
    "/*set libtorch path, load libs*/\n",
    "#include \"../load_libtorch.hpp\"\n",
    "#include <torch/torch.h>"
   ]
  },
  {
   "cell_type": "markdown",
   "id": "round-dinner",
   "metadata": {},
   "source": [
    "# 1.创建一个Tensor"
   ]
  },
  {
   "cell_type": "markdown",
   "id": "large-project",
   "metadata": {},
   "source": [
    "创建未初始化的tensor："
   ]
  },
  {
   "cell_type": "code",
   "execution_count": 2,
   "id": "electrical-hopkins",
   "metadata": {},
   "outputs": [
    {
     "name": "stdout",
     "output_type": "stream",
     "text": [
      " 1.3983e+14\n",
      " 9.4067e+13\n",
      " 6.8719e+10\n",
      "[ CPULongType{3} ]\n"
     ]
    }
   ],
   "source": [
    "torch::Tensor t1 = torch::empty(3, torch::kInt64);\n",
    "\n",
    "std::cout << t1 << std::endl;"
   ]
  },
  {
   "cell_type": "code",
   "execution_count": 3,
   "id": "handmade-research",
   "metadata": {},
   "outputs": [
    {
     "name": "stdout",
     "output_type": "stream",
     "text": [
      "-5.7050e+08  2.1851e+04  0.0000e+00  0.0000e+00  9.0000e+00  1.2322e+09\n",
      " 1.2634e+09  9.0921e+08  1.9531e+09  1.7687e+09  1.6013e+09  1.9537e+09\n",
      " 8.7696e+08  1.7025e+09  1.9126e+09  1.5993e+09  1.6000e+02  0.0000e+00\n",
      " 8.0000e+01  0.0000e+00 -5.6166e+08  2.1851e+04  0.0000e+00  0.0000e+00\n",
      " 1.0000e+01  1.9524e+09  1.2634e+09  9.0921e+08  1.9531e+09  1.7687e+09\n",
      "[ CPUIntType{5,6} ]\n"
     ]
    }
   ],
   "source": [
    "torch::Tensor t2 = torch::empty({5,6}, torch::kInt32);\n",
    "std::cout << t2 << std::endl;"
   ]
  },
  {
   "cell_type": "code",
   "execution_count": 4,
   "id": "foreign-italian",
   "metadata": {},
   "outputs": [
    {
     "name": "stdout",
     "output_type": "stream",
     "text": [
      "(1,.,.) = \n",
      "  101  102\n",
      "  105  110\n",
      "  101  100\n",
      "   84  101\n",
      "\n",
      "(2,.,.) = \n",
      "  110  115\n",
      "  111  114\n",
      "   73  109\n",
      "  112  108\n",
      "\n",
      "(3,.,.) = \n",
      "   69   69\n",
      "   55  114\n",
      "  101  116\n",
      "   97  105\n",
      "[ CPUCharType{3,4,2} ]\n"
     ]
    }
   ],
   "source": [
    "torch::Tensor t3 = torch::empty({3,4,2}, torch::kInt8);\n",
    "std::cout << t3 << std::endl;"
   ]
  },
  {
   "cell_type": "markdown",
   "id": "competitive-stocks",
   "metadata": {},
   "source": [
    "创建值为0的tensor："
   ]
  },
  {
   "cell_type": "code",
   "execution_count": 5,
   "id": "local-shock",
   "metadata": {},
   "outputs": [
    {
     "name": "stdout",
     "output_type": "stream",
     "text": [
      " 0  0  0  0\n",
      " 0  0  0  0\n",
      " 0  0  0  0\n",
      "[ CPUFloatType{3,4} ]\n",
      " 0  0  0  0\n",
      " 0  0  0  0\n",
      " 0  0  0  0\n",
      "[ CPUIntType{3,4} ]\n"
     ]
    }
   ],
   "source": [
    "torch::Tensor x = torch::zeros({3, 4});\n",
    "std::cout << x << std::endl;\n",
    "\n",
    "torch::Tensor y = torch::zeros({3, 4}, torch::kInt);\n",
    "std::cout << y << std::endl;"
   ]
  },
  {
   "cell_type": "markdown",
   "id": "horizontal-labor",
   "metadata": {},
   "source": [
    "创建值为随机数的tensor："
   ]
  },
  {
   "cell_type": "code",
   "execution_count": 6,
   "id": "rolled-personality",
   "metadata": {},
   "outputs": [
    {
     "name": "stdout",
     "output_type": "stream",
     "text": [
      " 0.4444  0.7839  0.3972  0.5826\n",
      " 0.8967  0.1082  0.5972  0.1979\n",
      " 0.5112  0.3519  0.5890  0.8016\n",
      "[ CPUFloatType{3,4} ]\n",
      "<<<=========>>>\n",
      "\n",
      " 0.3386  0.7420  0.4815  0.3888\n",
      " 0.8127  0.1300  0.6292  0.4419\n",
      " 0.7200  0.4255  0.8997  0.3681\n",
      "[ CPUDoubleType{3,4} ]\n",
      "<<<=========>>>\n",
      "\n",
      "(1,.,.) = \n",
      " -0.2787  1.2748  0.8307  0.9763\n",
      " -0.3594 -1.1021 -0.6364 -0.0364\n",
      "  0.7180  0.0749 -0.0436 -2.4029\n",
      "\n",
      "(2,.,.) = \n",
      " -0.2440 -0.0459  0.8772 -0.9237\n",
      " -1.6146 -0.5144 -0.0731  0.2669\n",
      " -0.5208 -0.0864  0.9103  0.8287\n",
      "\n",
      "(3,.,.) = \n",
      " -0.8943 -1.7940  0.0125  1.6025\n",
      " -2.0548  0.3773  1.4870  0.5982\n",
      " -0.0344  0.8939  1.7970  0.5809\n",
      "\n",
      "(4,.,.) = \n",
      "  1.1613 -1.6727 -1.1365  1.2555\n",
      " -0.1700  0.2928  1.7869 -0.2510\n",
      "  0.2229  2.3172 -2.0089 -0.7028\n",
      "\n",
      "(5,.,.) = \n",
      " -0.1174 -0.4590 -0.6379  0.7281\n",
      "  0.0454  0.5225 -0.3091  1.8815\n",
      "  0.1755 -1.0258 -0.2639  0.5765\n",
      "[ CPUFloatType{5,3,4} ]\n",
      "<<<=========>>>\n",
      "\n"
     ]
    }
   ],
   "source": [
    "torch::Tensor x = torch::rand({3, 4});\n",
    "std::cout << x << std::endl;\n",
    "std::cout << \"<<<=========>>>\" << std::endl << std::endl;\n",
    "\n",
    "torch::Tensor y = torch::rand({3, 4}, torch::kFloat64);\n",
    "std::cout << y << std::endl;\n",
    "std::cout << \"<<<=========>>>\" << std::endl << std::endl;\n",
    "\n",
    "torch::Tensor z = torch::randn({5, 3, 4}, torch::kFloat32);\n",
    "std::cout << z << std::endl;\n",
    "std::cout << \"<<<=========>>>\" << std::endl << std::endl;"
   ]
  },
  {
   "cell_type": "markdown",
   "id": "respected-comparative",
   "metadata": {},
   "source": [
    "根据已有tensor创建新的tensor："
   ]
  },
  {
   "cell_type": "code",
   "execution_count": 7,
   "id": "imperial-georgia",
   "metadata": {},
   "outputs": [
    {
     "name": "stdout",
     "output_type": "stream",
     "text": [
      " 3  3  3\n",
      " 3  3  3\n",
      " 3  3  3\n",
      "[ CPUFloatType{3,3} ]\n",
      "<<<=========>>>\n",
      "\n"
     ]
    }
   ],
   "source": [
    "torch::Tensor t = torch::ones({3,3});\n",
    "t += 2;\n",
    "\n",
    "\n",
    "torch::Tensor a(t);\n",
    "std::cout << a << std::endl;\n",
    "std::cout << \"<<<=========>>>\" << std::endl << std::endl;"
   ]
  },
  {
   "cell_type": "code",
   "execution_count": 8,
   "id": "respective-karen",
   "metadata": {},
   "outputs": [
    {
     "name": "stdout",
     "output_type": "stream",
     "text": [
      " 0.1059  1.7008 -1.0940\n",
      " 0.6755 -0.5386 -1.5082\n",
      " 0.5866  0.4006  1.7089\n",
      "-0.3359  0.1243 -0.2685\n",
      " 1.2250 -1.8495  0.8217\n",
      "[ CPUFloatType{5,3} ]\n",
      "<<<=========>>>\n",
      "\n"
     ]
    }
   ],
   "source": [
    "torch::Tensor a = torch::ones({5,3});\n",
    "a = torch::randn_like(a);\n",
    "\n",
    "std::cout << a << std::endl;\n",
    "std::cout << \"<<<=========>>>\" << std::endl << std::endl;"
   ]
  },
  {
   "cell_type": "markdown",
   "id": "atmospheric-mediterranean",
   "metadata": {},
   "source": [
    "更多例子请参考 [Tensor Creation API](https://pytorch.org/cppdocs/notes/tensor_creation.html)"
   ]
  },
  {
   "cell_type": "markdown",
   "id": "global-sapphire",
   "metadata": {},
   "source": [
    "# 2. Tensor的相关运算"
   ]
  },
  {
   "cell_type": "markdown",
   "id": "south-rates",
   "metadata": {},
   "source": [
    "## 加法运算"
   ]
  },
  {
   "cell_type": "code",
   "execution_count": 10,
   "id": "national-coating",
   "metadata": {},
   "outputs": [
    {
     "name": "stdout",
     "output_type": "stream",
     "text": [
      "x =\n",
      " 1  1  1\n",
      " 1  1  1\n",
      " 1  1  1\n",
      " 1  1  1\n",
      " 1  1  1\n",
      "[ CPUFloatType{5,3} ]\n",
      "\n",
      "y =\n",
      "-0.4262  0.2588 -1.2324\n",
      " 1.5842 -1.4629  0.5925\n",
      "-0.2029  0.6585 -0.0634\n",
      " 2.2986 -0.6072  0.9584\n",
      " 2.4718  1.3781  1.0643\n",
      "[ CPUFloatType{5,3} ]\n",
      "\n",
      "x+y =\n",
      " 0.5738  1.2588 -0.2324\n",
      " 2.5842 -0.4629  1.5925\n",
      " 0.7971  1.6585  0.9366\n",
      " 3.2986  0.3928  1.9584\n",
      " 3.4718  2.3781  2.0643\n",
      "[ CPUFloatType{5,3} ]\n",
      "<<<=========>>>\n",
      "\n",
      "torch::add(x,y) =\n",
      " 0.5738  1.2588 -0.2324\n",
      " 2.5842 -0.4629  1.5925\n",
      " 0.7971  1.6585  0.9366\n",
      " 3.2986  0.3928  1.9584\n",
      " 3.4718  2.3781  2.0643\n",
      "[ CPUFloatType{5,3} ]\n",
      "<<<=========>>>\n",
      "\n",
      "y.add_(x) =\n",
      " 0.5738  1.2588 -0.2324\n",
      " 2.5842 -0.4629  1.5925\n",
      " 0.7971  1.6585  0.9366\n",
      " 3.2986  0.3928  1.9584\n",
      " 3.4718  2.3781  2.0643\n",
      "[ CPUFloatType{5,3} ]\n",
      "<<<=========>>>\n",
      "\n"
     ]
    }
   ],
   "source": [
    "torch::Tensor x = torch::ones({5,3});\n",
    "torch::Tensor y = torch::randn({5,3});\n",
    "\n",
    "std::cout << \"x =\" << std::endl;\n",
    "std::cout << (x) << std::endl << std::endl;\n",
    "\n",
    "std::cout << \"y =\" << std::endl;\n",
    "std::cout << (y) << std::endl << std::endl;\n",
    "\n",
    "std::cout << \"x+y =\" << std::endl;\n",
    "std::cout << (x+y) << std::endl;\n",
    "std::cout << \"<<<=========>>>\" << std::endl << std::endl;\n",
    "\n",
    "std::cout << \"torch::add(x,y) =\" << std::endl;\n",
    "std::cout << torch::add(x,y) << std::endl;\n",
    "std::cout << \"<<<=========>>>\" << std::endl << std::endl;\n",
    "\n",
    "std::cout << \"y.add_(x) =\" << std::endl;\n",
    "std::cout << y.add_(x) << std::endl;\n",
    "std::cout << \"<<<=========>>>\" << std::endl << std::endl;"
   ]
  },
  {
   "cell_type": "markdown",
   "id": "unique-essence",
   "metadata": {},
   "source": [
    "## 索引\n",
    "借助于torch::Tensor::index()和torch::Tensor::index_put_()函数，我们可以在libtorch中实现类似pytorch中对tensor的切片存取操作。具体说明详见[tensor_indexing](https://pytorch.org/cppdocs/notes/tensor_indexing.html)页面."
   ]
  },
  {
   "cell_type": "code",
   "execution_count": 14,
   "id": "compliant-chance",
   "metadata": {},
   "outputs": [
    {
     "name": "stdout",
     "output_type": "stream",
     "text": [
      "x =\n",
      "  0\n",
      "  1\n",
      "  2\n",
      "  3\n",
      "  4\n",
      "  5\n",
      "  6\n",
      "  7\n",
      "  8\n",
      "  9\n",
      " 10\n",
      " 11\n",
      " 12\n",
      " 13\n",
      " 14\n",
      "[ CPUFloatType{15} ]\n",
      "\n",
      "(in python) x[None]=\n",
      "  0   1   2   3   4   5   6   7   8   9  10  11  12  13  14\n",
      "[ CPUFloatType{1,15} ]\n",
      "\n",
      "(in python) x[Ellipsis, ...]=\n",
      "  0\n",
      "  1\n",
      "  2\n",
      "  3\n",
      "  4\n",
      "  5\n",
      "  6\n",
      "  7\n",
      "  8\n",
      "  9\n",
      " 10\n",
      " 11\n",
      " 12\n",
      " 13\n",
      " 14\n",
      "[ CPUFloatType{15} ]\n",
      "\n",
      "(in python) x[7]=\n",
      "7\n",
      "[ CPUFloatType{} ]\n",
      "\n",
      "(in python) x[True, False]=\n",
      "[ CPUFloatType{0,15} ]\n",
      "\n",
      "(in python) x[1::2]=\n",
      "  1\n",
      "  3\n",
      "  5\n",
      "  7\n",
      "  9\n",
      " 11\n",
      " 13\n",
      "[ CPUFloatType{7} ]\n",
      "\n",
      "(in python) x[::2]=\n",
      "  0\n",
      "  2\n",
      "  4\n",
      "  6\n",
      "  8\n",
      " 10\n",
      " 12\n",
      " 14\n",
      "[ CPUFloatType{8} ]\n",
      "\n"
     ]
    }
   ],
   "source": [
    "torch::Tensor x = torch::zeros(15);\n",
    "\n",
    "for (int i = 0; i < 15; i++) {\n",
    "    x[i] = i;\n",
    "}\n",
    "    \n",
    "std::cout << \"x =\" << std::endl;\n",
    "std::cout << (x) << std::endl << std::endl;\n",
    "\n",
    "/* *\n",
    " *  Getter ops\n",
    " */\n",
    "std::cout << \"(in python) x[None]=\" << std::endl;\n",
    "std::cout << (x.index({torch::indexing::None})) << std::endl << std::endl;\n",
    "\n",
    "std::cout << \"(in python) x[Ellipsis, ...]=\" << std::endl;\n",
    "std::cout << (x.index({torch::indexing::Ellipsis, \"...\"})) << std::endl << std::endl;\n",
    "\n",
    "std::cout << \"(in python) x[7]=\" << std::endl;\n",
    "std::cout << (x.index({7})) << std::endl << std::endl;\n",
    "\n",
    "std::cout << \"(in python) x[True, False]=\" << std::endl;\n",
    "std::cout << (x.index({true,false,true,false,true,false,true,false,true,false,false,true,false,true,false})) << std::endl << std::endl;\n",
    "\n",
    "std::cout << \"(in python) x[1::2]=\" << std::endl;\n",
    "std::cout << (x.index({torch::indexing::Slice(1, torch::indexing::None, 2)})) << std::endl << std::endl;\n",
    "\n",
    "std::cout << \"(in python) x[::2]=\" << std::endl;\n",
    "std::cout << (x.index({torch::indexing::Slice(torch::indexing::None, torch::indexing::None, 2)})) << std::endl << std::endl;\n"
   ]
  },
  {
   "cell_type": "code",
   "execution_count": 3,
   "id": "later-tomorrow",
   "metadata": {},
   "outputs": [
    {
     "name": "stdout",
     "output_type": "stream",
     "text": [
      "x =\n",
      "  0\n",
      "  1\n",
      "  2\n",
      "  3\n",
      "  4\n",
      "  5\n",
      "  6\n",
      "  7\n",
      "  8\n",
      "  9\n",
      " 10\n",
      " 11\n",
      " 12\n",
      " 13\n",
      " 14\n",
      "[ CPUFloatType{15} ]\n",
      "\n",
      "(in python) x[None] = 1\n",
      " 1\n",
      " 1\n",
      " 1\n",
      " 1\n",
      " 1\n",
      " 1\n",
      " 1\n",
      " 1\n",
      " 1\n",
      " 1\n",
      " 1\n",
      " 1\n",
      " 1\n",
      " 1\n",
      " 1\n",
      "[ CPUFloatType{15} ]\n",
      "\n",
      "(in python) x[Ellipsis, ...] = 2\n",
      " 2\n",
      " 2\n",
      " 2\n",
      " 2\n",
      " 2\n",
      " 2\n",
      " 2\n",
      " 2\n",
      " 2\n",
      " 2\n",
      " 2\n",
      " 2\n",
      " 2\n",
      " 2\n",
      " 2\n",
      "[ CPUFloatType{15} ]\n",
      "\n",
      "(in python) x[7] = 3\n",
      " 2\n",
      " 2\n",
      " 2\n",
      " 2\n",
      " 2\n",
      " 2\n",
      " 2\n",
      " 3\n",
      " 2\n",
      " 2\n",
      " 2\n",
      " 2\n",
      " 2\n",
      " 2\n",
      " 2\n",
      "[ CPUFloatType{15} ]\n",
      "\n",
      "(in python) x[True, False] = 4\n",
      " 2\n",
      " 2\n",
      " 2\n",
      " 2\n",
      " 2\n",
      " 2\n",
      " 2\n",
      " 3\n",
      " 2\n",
      " 2\n",
      " 2\n",
      " 2\n",
      " 2\n",
      " 2\n",
      " 2\n",
      "[ CPUFloatType{15} ]\n",
      "\n",
      "(in python) x[1::2] = 5\n",
      " 2\n",
      " 5\n",
      " 2\n",
      " 5\n",
      " 2\n",
      " 5\n",
      " 2\n",
      " 5\n",
      " 2\n",
      " 5\n",
      " 2\n",
      " 5\n",
      " 2\n",
      " 5\n",
      " 2\n",
      "[ CPUFloatType{15} ]\n",
      "\n",
      "(in python) x[::2] = 6\n",
      " 6\n",
      " 5\n",
      " 6\n",
      " 5\n",
      " 6\n",
      " 5\n",
      " 6\n",
      " 5\n",
      " 6\n",
      " 5\n",
      " 6\n",
      " 5\n",
      " 6\n",
      " 5\n",
      " 6\n",
      "[ CPUFloatType{15} ]\n",
      "\n"
     ]
    }
   ],
   "source": [
    "torch::Tensor x = torch::zeros(15);\n",
    "\n",
    "for (int i = 0; i < 15; i++) {\n",
    "    x[i] = i;\n",
    "}\n",
    "    \n",
    "std::cout << \"x =\" << std::endl;\n",
    "std::cout << (x) << std::endl << std::endl;\n",
    "\n",
    "/* *\n",
    " *  Setter ops\n",
    " */\n",
    "std::cout << \"(in python) x[None] = 1\" << std::endl;\n",
    "std::cout << (x.index_put_({torch::indexing::None}, 1)) << std::endl << std::endl;\n",
    "\n",
    "std::cout << \"(in python) x[Ellipsis, ...] = 2\" << std::endl;\n",
    "std::cout << (x.index_put_({torch::indexing::Ellipsis, \"...\"}, 2)) << std::endl << std::endl;\n",
    "\n",
    "std::cout << \"(in python) x[7] = 3\" << std::endl;\n",
    "std::cout << (x.index_put_({7}, 3)) << std::endl << std::endl;\n",
    "\n",
    "std::cout << \"(in python) x[True, False] = 4\" << std::endl;\n",
    "std::cout << (x.index_put_({true,false,true,false,true,false,true,false,true,false,false,true,false,true,false}, 4)) << std::endl << std::endl;\n",
    "\n",
    "std::cout << \"(in python) x[1::2] = 5\" << std::endl;\n",
    "std::cout << (x.index_put_({torch::indexing::Slice(1, torch::indexing::None, 2)}, 5)) << std::endl << std::endl;\n",
    "\n",
    "std::cout << \"(in python) x[::2] = 6\" << std::endl;\n",
    "std::cout << (x.index_put_({torch::indexing::Slice(torch::indexing::None, torch::indexing::None, 2)}, 6)) << std::endl << std::endl;\n"
   ]
  },
  {
   "cell_type": "markdown",
   "id": "professional-jaguar",
   "metadata": {},
   "source": [
    "### Python 与 C++ 索引类型对照表\n",
    "\n",
    "|Python | C++ (assuming using namespace torch::indexing) |\n",
    "|:---|:---|\n",
    "|None|None|\n",
    "|Ellipsis|Ellipsis|\n",
    "|...|\"...\"|\n",
    "|123|123|\n",
    "|True|true|\n",
    "|False|false|\n",
    "|: or ::|Slice() or Slice(None, None) or Slice(None, None, None)|\n",
    "|1: or 1::|Slice(1, None) or Slice(1, None, None)|\n",
    "|:3 or :3:|Slice(None, 3) or Slice(None, 3, None)|\n",
    "|::2|Slice(None, None, 2)|\n",
    "|1:3|Slice(1, 3)|\n",
    "|1::2|Slice(1, None, 2)|\n",
    "|:3:2|Slice(None, 3, 2)|\n",
    "|1:3:2|Slice(1, 3, 2)|\n",
    "|torch.tensor([1, 2])|torch::tensor({1, 2})|"
   ]
  },
  {
   "cell_type": "markdown",
   "id": "accepted-tuner",
   "metadata": {},
   "source": [
    "### 其它索引操作"
   ]
  },
  {
   "cell_type": "code",
   "execution_count": 34,
   "id": "material-wedding",
   "metadata": {},
   "outputs": [
    {
     "name": "stdout",
     "output_type": "stream",
     "text": [
      "x =\n",
      "  0   1   2   3\n",
      "  4   5   6   7\n",
      "  8   9  10  11\n",
      "[ CPUFloatType{3,4} ]\n",
      "\n",
      "<<< tensor.index_select >>>\n",
      " 1\n",
      " 2\n",
      "[ CPULongType{2} ]\n",
      "\n",
      "x.index_select(dim = 0, index = idx) =\n",
      "  4   5   6   7\n",
      "  8   9  10  11\n",
      "[ CPUFloatType{2,4} ]\n",
      "\n",
      "x.index_select(dim = 1, index = idx) =\n",
      "  1   2\n",
      "  5   6\n",
      "  9  10\n",
      "[ CPUFloatType{3,2} ]\n",
      "\n",
      "<<< tensor.masked_select >>>\n",
      " 0  0  0  0\n",
      " 0  0  1  1\n",
      " 1  1  1  1\n",
      "[ CPUBoolType{3,4} ]\n",
      "\n",
      "x.masked_select(mask = mask) =\n",
      "  6\n",
      "  7\n",
      "  8\n",
      "  9\n",
      " 10\n",
      " 11\n",
      "[ CPUFloatType{6} ]\n",
      "\n",
      "<<< tensor.nonzero >>>\n",
      "注意，返回值是非零元素下标，即x,y \n",
      "x.nonzero() =\n",
      " 0  1\n",
      " 0  2\n",
      " 0  3\n",
      " 1  0\n",
      " 1  1\n",
      " 1  2\n",
      " 1  3\n",
      " 2  0\n",
      " 2  1\n",
      " 2  2\n",
      " 2  3\n",
      "[ CPULongType{11,2} ]\n",
      "\n",
      "<<< tensor.gather >>>\n",
      "注意，index tensor必须指明类型为int64\n",
      " 4  5\n",
      " 4  5\n",
      "[ CPUFloatType{2,2} ]\n",
      "\n"
     ]
    }
   ],
   "source": [
    "torch::Tensor x = torch::zeros({3,4});\n",
    "\n",
    "for (int i = 0; i < 3; i++) {\n",
    "    for (int j = 0; j < 4; j++) {\n",
    "        x[i][j] = i*4+j;\n",
    "    }\n",
    "}\n",
    "    \n",
    "std::cout << \"x =\" << std::endl;\n",
    "std::cout << (x) << std::endl << std::endl;\n",
    "\n",
    "\n",
    "/** Warning:\n",
    " *  a known issue: with xeus-cling, if you call torch::from_blob,\n",
    " *  there will be a link error, \n",
    " *  \n",
    " *  IncrementalExecutor::executeFunction: \n",
    " *  symbol '__emutls_v._ZSt11__once_call' unresolved \n",
    " *  while linking function '_GLOBAL__sub_I_cling_module_8'!\n",
    " *\n",
    " *\n",
    " *  so I write this example in pure \n",
    " *  c++ code in folder : 'cpp_project/basic_ops'.\n",
    " */\n",
    "// std::vector<int32_t> v = {1,2,7,8}; \n",
    "// auto idx = torch::from_blob(v.data(), v.size(), torch::kInt32);\n",
    "\n",
    "\n",
    "std::cout << \"<<< tensor.index_select >>>\" << std::endl;\n",
    "torch::Tensor idx = torch::arange(1,3);\n",
    "std::cout << (idx) << std::endl << std::endl;\n",
    "\n",
    "std::cout << \"x.index_select(dim = 0, index = idx) =\" << std::endl;\n",
    "std::cout << (x.index_select(0,idx)) << std::endl << std::endl;\n",
    "\n",
    "std::cout << \"x.index_select(dim = 1, index = idx) =\" << std::endl;\n",
    "std::cout << (x.index_select(1,idx)) << std::endl << std::endl;\n",
    "\n",
    "\n",
    "std::cout << \"<<< tensor.masked_select >>>\" << std::endl;\n",
    "torch::Tensor mask = x > 5;\n",
    "std::cout << (mask) << std::endl << std::endl;\n",
    "std::cout << \"x.masked_select(mask = mask) =\" << std::endl;\n",
    "std::cout << (x.masked_select(mask)) << std::endl << std::endl;\n",
    "\n",
    "std::cout << \"<<< tensor.nonzero >>>\" << std::endl;\n",
    "std::cout << \"注意，返回值是非零元素下标，即x,y \"<< std::endl << \"x.nonzero() =\" << std::endl;\n",
    "std::cout << (x.nonzero()) << std::endl << std::endl;\n",
    "\n",
    "std::cout << \"<<< tensor.gather >>>\" << std::endl;\n",
    "std::cout << \"注意，index tensor必须指明类型为int64\" << std::endl;\n",
    "torch::Tensor g = torch::ones({2,2}, torch::kInt64);\n",
    "std::cout << (x.gather(0, g)) << std::endl << std::endl;\n",
    "// std::cout << (torch::gather(x, 0, g, false)) << std::endl << std::endl;\n"
   ]
  },
  {
   "cell_type": "markdown",
   "id": "present-request",
   "metadata": {},
   "source": [
    "### 改变形状"
   ]
  },
  {
   "cell_type": "code",
   "execution_count": 36,
   "id": "royal-scholarship",
   "metadata": {},
   "outputs": [
    {
     "name": "stdout",
     "output_type": "stream",
     "text": [
      "y =\n",
      "  0   1   2\n",
      "  3   4   5\n",
      "  6   7   8\n",
      "  9  10  11\n",
      "[ CPUFloatType{4,3} ]\n",
      "\n"
     ]
    }
   ],
   "source": [
    "/* *\n",
    " *  Change shapes\n",
    " */\n",
    "torch::Tensor y = x.view({4, -1});\n",
    "std::cout << \"y =\" << std::endl;\n",
    "std::cout << (y) << std::endl << std::endl;"
   ]
  },
  {
   "cell_type": "code",
   "execution_count": null,
   "id": "quality-complexity",
   "metadata": {},
   "outputs": [],
   "source": []
  }
 ],
 "metadata": {
  "kernelspec": {
   "display_name": "C++14",
   "language": "C++14",
   "name": "xcpp14"
  },
  "language_info": {
   "codemirror_mode": "text/x-c++src",
   "file_extension": ".cpp",
   "mimetype": "text/x-c++src",
   "name": "c++",
   "version": "14"
  }
 },
 "nbformat": 4,
 "nbformat_minor": 5
}
