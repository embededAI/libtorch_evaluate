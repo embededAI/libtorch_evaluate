{
 "cells": [
  {
   "cell_type": "code",
   "execution_count": 1,
   "id": "eligible-natural",
   "metadata": {},
   "outputs": [],
   "source": [
    "#include \"stdio.h\"\n",
    "#include \"stdlib.h\"\n",
    "#include <iostream>\n",
    "#include <vector>\n",
    "\n",
    "/*a workaround to solve cling issue*/\n",
    "#include \"../macos_cling_workaround.hpp\"\n",
    "/*set libtorch path, load libs*/\n",
    "#include \"../load_libtorch.hpp\"\n",
    "#include <torch/torch.h>"
   ]
  },
  {
   "cell_type": "code",
   "execution_count": 6,
   "id": "headed-typing",
   "metadata": {},
   "outputs": [
    {
     "name": "stderr",
     "output_type": "stream",
     "text": [
      "Unknown magic line function %pwd\n"
     ]
    }
   ],
   "source": [
    "%pwd"
   ]
  },
  {
   "cell_type": "raw",
   "id": "chinese-pulse",
   "metadata": {},
   "source": [
    "%%html\n",
    "<style>\n",
    "  table {margin-left: 0 !important;}\n",
    "</style>"
   ]
  },
  {
   "cell_type": "markdown",
   "id": "affected-trauma",
   "metadata": {},
   "source": [
    "# 线性代数运算\n",
    "\n",
    "\n",
    "| 函数                              | 功能                             |\n",
    "| :---------------------------------: | :---------------------------------: |\n",
    "| trace                             | 对角线元素之和(矩阵的迹)          |\n",
    "| diag                              | 对角线元素                       |\n",
    "| triu/tril                         | 矩阵的上三角/下三角，可指定偏移量 |\n",
    "| mm/bmm                            | 矩阵乘法，batch的矩阵乘法         |\n",
    "| addmm/addbmm/addmv/addr/baddbmm.. | 矩阵运算                         |\n",
    "| t                                 | 转置                            |\n",
    "| dot/cross                         | 内积/外积                        |\n",
    "| inverse                           | 求逆矩阵                         |\n",
    "| svd                               | 奇异值分解                       |"
   ]
  },
  {
   "cell_type": "code",
   "execution_count": 2,
   "id": "judicial-owner",
   "metadata": {},
   "outputs": [
    {
     "name": "stdout",
     "output_type": "stream",
     "text": [
      "trace(x) = \n",
      "5\n",
      "[ CPULongType{} ]\n",
      "\n",
      "diag(x) = \n",
      " 1\n",
      " 1\n",
      " 1\n",
      " 1\n",
      " 1\n",
      "[ CPULongType{5} ]\n",
      "\n",
      "(x) = \n",
      "  2  33   5  32  29  35\n",
      " 12  15   0  28  24   0\n",
      " 18   1   8   5  15  12\n",
      " 13  25  16  29  12  20\n",
      " 27   2  29  22   6   0\n",
      "  0  16   4  29  33  30\n",
      "[ CPUFloatType{6,6} ]\n",
      "\n",
      "triu(x) = \n",
      "  2  33   5  32  29  35\n",
      "  0  15   0  28  24   0\n",
      "  0   0   8   5  15  12\n",
      "  0   0   0  29  12  20\n",
      "  0   0   0   0   6   0\n",
      "  0   0   0   0   0  30\n",
      "[ CPUFloatType{6,6} ]\n",
      "\n",
      "tril(x) = \n",
      "  2   0   0   0   0   0\n",
      " 12  15   0   0   0   0\n",
      " 18   1   8   0   0   0\n",
      " 13  25  16  29   0   0\n",
      " 27   2  29  22   6   0\n",
      "  0  16   4  29  33  30\n",
      "[ CPUFloatType{6,6} ]\n",
      "\n"
     ]
    }
   ],
   "source": [
    "torch::Tensor x = torch::eye(5, torch::kInt64);\n",
    "\n",
    "std::cout << \"trace(x) = \" << std::endl;\n",
    "std::cout << torch::trace(x) << std::endl << std::endl;\n",
    "\n",
    "std::cout << \"diag(x) = \" << std::endl;\n",
    "std::cout << torch::diag(x) << std::endl << std::endl;\n",
    "\n",
    "x = torch::randint(36,{6,6});\n",
    "std::cout << \"(x) = \" << std::endl;\n",
    "std::cout << (x) << std::endl << std::endl;\n",
    "\n",
    "std::cout << \"triu(x) = \" << std::endl;\n",
    "std::cout << torch::triu(x) << std::endl << std::endl;\n",
    "\n",
    "std::cout << \"tril(x) = \" << std::endl;\n",
    "std::cout << torch::tril(x) << std::endl << std::endl;\n"
   ]
  },
  {
   "cell_type": "code",
   "execution_count": 6,
   "id": "vulnerable-washington",
   "metadata": {},
   "outputs": [
    {
     "name": "stdout",
     "output_type": "stream",
     "text": [
      "(x) = \n",
      "  6  17  17  18\n",
      "  8  18  10   9\n",
      "  6  10   0  10\n",
      "[ CPUFloatType{3,4} ]\n",
      "\n",
      "(y) = \n",
      " 11   0  17\n",
      "  8   1   9\n",
      " 18   0  10\n",
      "  3  17   3\n",
      "[ CPUFloatType{4,3} ]\n",
      "\n",
      "/* matrix-matrix product */\n",
      "mm(x,y) = \n",
      " 562  323  479\n",
      " 439  171  425\n",
      " 176  180  222\n",
      "[ CPUFloatType{3,3} ]\n",
      "\n",
      "/*batch matrix-matrix product: /*\n",
      "/*If input is a (b×n×m) tensor, mat2 is a (b×m×p) tensor, /*\n",
      "/*out will be a (b \times n \times p)(b×n×p) tensor.*/\n",
      "bmm(a,b) = \n",
      "(1,.,.) = \n",
      "  298  353  129\n",
      "  470  492  302\n",
      "  333  491  283\n",
      "\n",
      "(2,.,.) = \n",
      "  344   86   44\n",
      "  214  363  331\n",
      "  105  333  292\n",
      "[ CPUFloatType{2,3,3} ]\n",
      "\n",
      "/*addmm(input, mat1, mat2, *, beta=1, alpha=1)/*\n",
      "/*out = beta * input + alpha * (mat1 * mat2) */\n",
      "addmm(a1, a2, a3, 2, 3) = \n",
      "  6   7   4   3\n",
      " 12   8   2   8\n",
      " 14  14   7   8\n",
      "[ CPUFloatType{3,4} ]\n",
      "\n"
     ]
    },
    {
     "data": {
      "text/plain": [
       "@0x7f287c53ab60"
      ]
     },
     "execution_count": 6,
     "metadata": {},
     "output_type": "execute_result"
    }
   ],
   "source": [
    "torch::Tensor x = torch::randint(20,{3,4});\n",
    "torch::Tensor y = torch::randint(20,{4,3});\n",
    "\n",
    "std::cout << \"(x) = \" << std::endl;\n",
    "std::cout << (x) << std::endl << std::endl;\n",
    "std::cout << \"(y) = \" << std::endl;\n",
    "std::cout << (y) << std::endl << std::endl;\n",
    "\n",
    "std::cout << \"/* matrix-matrix product */\" << std::endl;\n",
    "std::cout << \"mm(x,y) = \" << std::endl;\n",
    "std::cout << torch::mm(x,y) << std::endl << std::endl;\n",
    "\n",
    "\n",
    "torch::Tensor a = torch::randint(20,{2,3,4});\n",
    "torch::Tensor b = torch::randint(20,{2,4,3});\n",
    "\n",
    "std::cout << \"/*batch matrix-matrix product: /*\" << std::endl;\n",
    "std::cout << \"/*If input is a (b×n×m) tensor, mat2 is a (b×m×p) tensor, /*\" << std::endl;\n",
    "std::cout << \"/*out will be a (b \\times n \\times p)(b×n×p) tensor.*/\" << std::endl;\n",
    "std::cout << \"bmm(a,b) = \" << std::endl;\n",
    "std::cout << torch::bmm(a,b) << std::endl << std::endl;\n",
    "\n",
    "\n",
    "torch::Tensor a1 = torch::randint(3, {3,4});\n",
    "torch::Tensor a2 = torch::randint(3, {3,5});\n",
    "torch::Tensor a3 = torch::randint(3, {5,4});\n",
    "std::cout << \"/*addmm(input, mat1, mat2, *, beta=1, alpha=1)/*\" << std::endl;\n",
    "std::cout << \"/*out = beta * input + alpha * (mat1 * mat2) */\" << std::endl;\n",
    "std::cout << \"addmm(a1, a2, a3, 2, 3) = \" << std::endl;\n",
    "std::cout << torch::addmm(a1, a2, a3, 2, 3) << std::endl << std::endl;\n",
    "\n"
   ]
  },
  {
   "cell_type": "markdown",
   "id": "sudden-tooth",
   "metadata": {},
   "source": [
    "关于tensor的一些基本运算"
   ]
  },
  {
   "cell_type": "code",
   "execution_count": 3,
   "id": "coordinate-stick",
   "metadata": {},
   "outputs": [
    {
     "name": "stdout",
     "output_type": "stream",
     "text": [
      "x = \n",
      " 2  2  2  2\n",
      " 2  2  2  2\n",
      " 2  2  2  2\n",
      "[ CPUFloatType{3,4} ]\n",
      "\n",
      "x.pow(3) = \n",
      " 8  8  8  8\n",
      " 8  8  8  8\n",
      " 8  8  8  8\n",
      "[ CPUFloatType{3,4} ]\n",
      "\n"
     ]
    }
   ],
   "source": [
    "torch::Tensor x = torch::ones({3,4});\n",
    "x += 1;\n",
    "std::cout << \"x = \" << std::endl << x << std::endl << std::endl;\n",
    "\n",
    "std::cout << \"x.pow(3) = \" << std::endl << x.pow(3) << std::endl << std::endl;\n"
   ]
  },
  {
   "cell_type": "code",
   "execution_count": null,
   "id": "nonprofit-lesson",
   "metadata": {},
   "outputs": [],
   "source": []
  }
 ],
 "metadata": {
  "kernelspec": {
   "display_name": "C++14",
   "language": "C++14",
   "name": "xcpp14"
  },
  "language_info": {
   "codemirror_mode": "text/x-c++src",
   "file_extension": ".cpp",
   "mimetype": "text/x-c++src",
   "name": "c++",
   "version": "14"
  }
 },
 "nbformat": 4,
 "nbformat_minor": 5
}
