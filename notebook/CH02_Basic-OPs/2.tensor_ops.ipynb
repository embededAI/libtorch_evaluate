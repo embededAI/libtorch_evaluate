{
 "cells": [
  {
   "cell_type": "code",
   "execution_count": 1,
   "id": "eligible-natural",
   "metadata": {},
   "outputs": [],
   "source": [
    "#include \"stdio.h\"\n",
    "#include \"stdlib.h\"\n",
    "#include <iostream>\n",
    "#include <vector>\n",
    "\n",
    "/*a workaround to solve cling issue*/\n",
    "#include \"../macos_cling_workaround.hpp\"\n",
    "/*set libtorch path, load libs*/\n",
    "#include \"../load_libtorch.hpp\"\n",
    "#include <torch/torch.h>"
   ]
  },
  {
   "cell_type": "code",
   "execution_count": 3,
   "id": "assisted-waters",
   "metadata": {},
   "outputs": [
    {
     "name": "stdout",
     "output_type": "stream",
     "text": [
      "x = \n",
      " 2  2  2  2\n",
      " 2  2  2  2\n",
      " 2  2  2  2\n",
      "[ CPUFloatType{3,4} ]\n",
      "\n",
      "x.pow(3) = \n",
      " 8  8  8  8\n",
      " 8  8  8  8\n",
      " 8  8  8  8\n",
      "[ CPUFloatType{3,4} ]\n",
      "\n"
     ]
    }
   ],
   "source": [
    "torch::Tensor x = torch::ones({3,4});\n",
    "x += 1;\n",
    "std::cout << \"x = \" << std::endl << x << std::endl << std::endl;\n",
    "\n",
    "std::cout << \"x.pow(3) = \" << std::endl << x.pow(3) << std::endl << std::endl;\n"
   ]
  },
  {
   "cell_type": "code",
   "execution_count": null,
   "id": "ranging-medication",
   "metadata": {},
   "outputs": [],
   "source": []
  }
 ],
 "metadata": {
  "kernelspec": {
   "display_name": "C++14",
   "language": "C++14",
   "name": "xcpp14"
  },
  "language_info": {
   "codemirror_mode": "text/x-c++src",
   "file_extension": ".cpp",
   "mimetype": "text/x-c++src",
   "name": "c++",
   "version": "14"
  }
 },
 "nbformat": 4,
 "nbformat_minor": 5
}
