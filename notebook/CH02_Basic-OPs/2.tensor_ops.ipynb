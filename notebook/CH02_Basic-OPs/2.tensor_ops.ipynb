{
 "cells": [
  {
   "cell_type": "code",
   "execution_count": 6,
   "id": "eligible-natural",
   "metadata": {},
   "outputs": [],
   "source": [
    "#include \"stdio.h\"\n",
    "#include \"stdlib.h\"\n",
    "#include <iostream>\n",
    "#include <vector>\n",
    "\n",
    "/*a workaround to solve cling issue*/\n",
    "#include \"../macos_cling_workaround.hpp\"\n",
    "/*set libtorch path, load libs*/\n",
    "#include \"../load_libtorch.hpp\"\n",
    "#include <torch/torch.h>"
   ]
  },
  {
   "cell_type": "markdown",
   "id": "affected-trauma",
   "metadata": {},
   "source": [
    "# 线性代数运算"
   ]
  },
  {
   "cell_type": "code",
   "execution_count": 18,
   "id": "judicial-owner",
   "metadata": {},
   "outputs": [
    {
     "name": "stdout",
     "output_type": "stream",
     "text": [
      "trace(x) = \n",
      "5\n",
      "[ CPULongType{} ]\n",
      "\n",
      "diag(x) = \n",
      " 1\n",
      " 1\n",
      " 1\n",
      " 1\n",
      " 1\n",
      "[ CPULongType{5} ]\n",
      "\n",
      "(x) = \n",
      "  0   5  34  13  24  19\n",
      "  1  32  29  26  27   3\n",
      " 23   3  28  13  30  12\n",
      " 34   1  26  24  14  27\n",
      " 16  11   7  30  16  18\n",
      "  2  13  31  31  10  30\n",
      "[ CPUFloatType{6,6} ]\n",
      "\n",
      "triu(x) = \n",
      "  0   5  34  13  24  19\n",
      "  0  32  29  26  27   3\n",
      "  0   0  28  13  30  12\n",
      "  0   0   0  24  14  27\n",
      "  0   0   0   0  16  18\n",
      "  0   0   0   0   0  30\n",
      "[ CPUFloatType{6,6} ]\n",
      "\n",
      "tril(x) = \n",
      "  0   0   0   0   0   0\n",
      "  1  32   0   0   0   0\n",
      " 23   3  28   0   0   0\n",
      " 34   1  26  24   0   0\n",
      " 16  11   7  30  16   0\n",
      "  2  13  31  31  10  30\n",
      "[ CPUFloatType{6,6} ]\n",
      "\n"
     ]
    }
   ],
   "source": [
    "torch::Tensor x = torch::eye(5, torch::kInt64);\n",
    "\n",
    "std::cout << \"trace(x) = \" << std::endl;\n",
    "std::cout << torch::trace(x) << std::endl << std::endl;\n",
    "\n",
    "std::cout << \"diag(x) = \" << std::endl;\n",
    "std::cout << torch::diag(x) << std::endl << std::endl;\n",
    "\n",
    "x = torch::randint(36,{6,6});\n",
    "std::cout << \"(x) = \" << std::endl;\n",
    "std::cout << (x) << std::endl << std::endl;\n",
    "\n",
    "std::cout << \"triu(x) = \" << std::endl;\n",
    "std::cout << torch::triu(x) << std::endl << std::endl;\n",
    "\n",
    "std::cout << \"tril(x) = \" << std::endl;\n",
    "std::cout << torch::tril(x) << std::endl << std::endl;\n"
   ]
  },
  {
   "cell_type": "code",
   "execution_count": 22,
   "id": "vulnerable-washington",
   "metadata": {},
   "outputs": [
    {
     "name": "stdout",
     "output_type": "stream",
     "text": [
      "(x) = \n",
      "  5   0  13   5\n",
      " 17  17   0   4\n",
      "  8   1   9   2\n",
      "[ CPUFloatType{3,4} ]\n",
      "\n",
      "(y) = \n",
      " 12  11  13\n",
      " 10   6  19\n",
      " 13  16   0\n",
      "  7  13  15\n",
      "[ CPUFloatType{4,3} ]\n",
      "\n",
      "mm(x,y) = \n",
      " 264  328  140\n",
      " 402  341  604\n",
      " 237  264  153\n",
      "[ CPUFloatType{3,3} ]\n",
      "\n",
      "bmm(x,y) = \n"
     ]
    },
    {
     "ename": "Error",
     "evalue": "",
     "output_type": "error",
     "traceback": [
      "Error: "
     ]
    }
   ],
   "source": [
    "torch::Tensor x = torch::randint(20,{3,4});\n",
    "torch::Tensor y = torch::randint(20,{4,3});\n",
    "\n",
    "std::cout << \"(x) = \" << std::endl;\n",
    "std::cout << (x) << std::endl << std::endl;\n",
    "std::cout << \"(y) = \" << std::endl;\n",
    "std::cout << (y) << std::endl << std::endl;\n",
    "\n",
    "std::cout << \"mm(x,y) = \" << std::endl;\n",
    "std::cout << torch::mm(x,y) << std::endl << std::endl;\n",
    "\n",
    "std::cout << \"bmm(x,y) = \" << std::endl;\n",
    "std::cout << torch::bmm(x,y) << std::endl << std::endl;\n"
   ]
  },
  {
   "cell_type": "markdown",
   "id": "sudden-tooth",
   "metadata": {},
   "source": [
    "关于tensor的一些基本运算"
   ]
  },
  {
   "cell_type": "code",
   "execution_count": 3,
   "id": "coordinate-stick",
   "metadata": {},
   "outputs": [
    {
     "name": "stdout",
     "output_type": "stream",
     "text": [
      "x = \n",
      " 2  2  2  2\n",
      " 2  2  2  2\n",
      " 2  2  2  2\n",
      "[ CPUFloatType{3,4} ]\n",
      "\n",
      "x.pow(3) = \n",
      " 8  8  8  8\n",
      " 8  8  8  8\n",
      " 8  8  8  8\n",
      "[ CPUFloatType{3,4} ]\n",
      "\n"
     ]
    }
   ],
   "source": [
    "torch::Tensor x = torch::ones({3,4});\n",
    "x += 1;\n",
    "std::cout << \"x = \" << std::endl << x << std::endl << std::endl;\n",
    "\n",
    "std::cout << \"x.pow(3) = \" << std::endl << x.pow(3) << std::endl << std::endl;\n"
   ]
  },
  {
   "cell_type": "code",
   "execution_count": null,
   "id": "nonprofit-lesson",
   "metadata": {},
   "outputs": [],
   "source": []
  }
 ],
 "metadata": {
  "kernelspec": {
   "display_name": "C++14",
   "language": "C++14",
   "name": "xcpp14"
  },
  "language_info": {
   "codemirror_mode": "text/x-c++src",
   "file_extension": ".cpp",
   "mimetype": "text/x-c++src",
   "name": "c++",
   "version": "14"
  }
 },
 "nbformat": 4,
 "nbformat_minor": 5
}
