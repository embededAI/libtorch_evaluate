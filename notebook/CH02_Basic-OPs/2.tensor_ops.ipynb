{
 "cells": [
  {
   "cell_type": "code",
   "execution_count": null,
   "id": "eligible-natural",
   "metadata": {},
   "outputs": [],
   "source": [
    "#include \"stdio.h\"\n",
    "#include \"stdlib.h\"\n",
    "#include <iostream>\n",
    "#include <vector>\n",
    "\n",
    "/*a workaround to solve cling issue*/\n",
    "#include \"../macos_cling_workaround.hpp\"\n",
    "/*set libtorch path, load libs*/\n",
    "#include \"../load_libtorch.hpp\"\n",
    "/*import custom defined macros*/\n",
    "#include \"../custom_def.hpp\"\n",
    "/*import libtorch header file*/\n",
    "#include <torch/torch.h>"
   ]
  },
  {
   "cell_type": "markdown",
   "id": "affected-trauma",
   "metadata": {},
   "source": [
    "# 线性代数运算\n",
    "\n",
    "\n",
    "| 函数                              | 功能                             |\n",
    "| :---------------------------------: | :---------------------------------: |\n",
    "| trace                             | 对角线元素之和(矩阵的迹)          |\n",
    "| diag                              | 对角线元素                       |\n",
    "| triu/tril                         | 矩阵的上三角/下三角，可指定偏移量 |\n",
    "| mm/bmm                            | 矩阵乘法，batch的矩阵乘法         |\n",
    "| addmm/addbmm/addmv/addr/baddbmm.. | 矩阵运算                         |\n",
    "| t                                 | 转置                            |\n",
    "| dot/cross                         | 内积/外积                        |\n",
    "| inverse                           | 求逆矩阵                         |\n",
    "| svd                               | 奇异值分解                       |"
   ]
  },
  {
   "cell_type": "code",
   "execution_count": 2,
   "id": "judicial-owner",
   "metadata": {},
   "outputs": [
    {
     "name": "stdout",
     "output_type": "stream",
     "text": [
      "trace(x) = \n",
      "5\n",
      "[ CPULongType{} ]\n",
      "\n",
      "diag(x) = \n",
      " 1\n",
      " 1\n",
      " 1\n",
      " 1\n",
      " 1\n",
      "[ CPULongType{5} ]\n",
      "\n",
      "(x) = \n",
      " 13  21  17  33  29  21\n",
      " 14   6   3  25  26  13\n",
      " 16  34  34  14  18   7\n",
      "  7  31  30  33   1  28\n",
      "  0   4   7  30  19   4\n",
      "  9  19   3   0  20  31\n",
      "[ CPUFloatType{6,6} ]\n",
      "\n",
      "triu(x) = \n",
      " 13  21  17  33  29  21\n",
      "  0   6   3  25  26  13\n",
      "  0   0  34  14  18   7\n",
      "  0   0   0  33   1  28\n",
      "  0   0   0   0  19   4\n",
      "  0   0   0   0   0  31\n",
      "[ CPUFloatType{6,6} ]\n",
      "\n",
      "tril(x) = \n",
      " 13   0   0   0   0   0\n",
      " 14   6   0   0   0   0\n",
      " 16  34  34   0   0   0\n",
      "  7  31  30  33   0   0\n",
      "  0   4   7  30  19   0\n",
      "  9  19   3   0  20  31\n",
      "[ CPUFloatType{6,6} ]\n",
      "\n"
     ]
    }
   ],
   "source": [
    "torch::Tensor x = torch::eye(5, torch::kInt64);\n",
    "\n",
    "std::cout << \"trace(x) = \" << std::endl;\n",
    "std::cout << torch::trace(x) << std::endl << std::endl;\n",
    "\n",
    "std::cout << \"diag(x) = \" << std::endl;\n",
    "std::cout << torch::diag(x) << std::endl << std::endl;\n",
    "\n",
    "x = torch::randint(36,{6,6});\n",
    "std::cout << \"(x) = \" << std::endl;\n",
    "std::cout << (x) << std::endl << std::endl;\n",
    "\n",
    "std::cout << \"triu(x) = \" << std::endl;\n",
    "std::cout << torch::triu(x) << std::endl << std::endl;\n",
    "\n",
    "std::cout << \"tril(x) = \" << std::endl;\n",
    "std::cout << torch::tril(x) << std::endl << std::endl;\n"
   ]
  },
  {
   "cell_type": "code",
   "execution_count": 3,
   "id": "vulnerable-washington",
   "metadata": {},
   "outputs": [
    {
     "name": "stdout",
     "output_type": "stream",
     "text": [
      "(x) = \n",
      " 17  10  13  18\n",
      "  7  11  19   0\n",
      " 17  13   3  13\n",
      "[ CPUFloatType{3,4} ]\n",
      "\n",
      "(y) = \n",
      " 17   6   6\n",
      "  2  15  13\n",
      " 18   2   5\n",
      " 16   0  10\n",
      "[ CPUFloatType{4,3} ]\n",
      "\n",
      "/* matrix-matrix product */\n",
      "mm(x,y) = \n",
      " 831  278  477\n",
      " 483  245  280\n",
      " 577  303  416\n",
      "[ CPUFloatType{3,3} ]\n",
      "\n",
      "/*batch matrix-matrix product: /*\n",
      "/*If input is a (b×n×m) tensor, mat2 is a (b×m×p) tensor, /*\n",
      "/*out will be a (b×n×p) tensor.*/\n",
      "bmm(a,b) = \n",
      "(1,.,.) = \n",
      "  562  467  645\n",
      "  318  312  416\n",
      "  157  253  207\n",
      "\n",
      "(2,.,.) = \n",
      "  424  503  363\n",
      "  326  453  253\n",
      "  204  424   51\n",
      "[ CPUFloatType{2,3,3} ]\n",
      "\n",
      "(a1) = \n",
      " 0  0  2  0\n",
      " 1  2  1  2\n",
      " 1  2  0  2\n",
      "[ CPUFloatType{3,4} ]\n",
      "\n",
      "(a2) = \n",
      " 1  2  2  0  0\n",
      " 1  2  0  1  2\n",
      " 2  0  0  1  1\n",
      "[ CPUFloatType{3,5} ]\n",
      "\n",
      "(a3) = \n",
      " 0  1  0  1\n",
      " 1  2  0  2\n",
      " 0  2  0  1\n",
      " 1  0  1  1\n",
      " 1  2  0  0\n",
      "[ CPUFloatType{5,4} ]\n",
      "\n",
      "/*addmm(input, mat1, mat2, *, beta=1, alpha=1)/*\n",
      "/*out = beta * input + alpha * (mat1 * mat2) */\n",
      "addmm(a1, a2, a3, 2, 3) = \n",
      "  6  27   4  21\n",
      " 17  31   5  22\n",
      "  8  16   3  13\n",
      "[ CPUFloatType{3,4} ]\n",
      "\n"
     ]
    }
   ],
   "source": [
    "torch::Tensor x = torch::randint(20,{3,4});\n",
    "torch::Tensor y = torch::randint(20,{4,3});\n",
    "\n",
    "std::cout << \"(x) = \" << std::endl;\n",
    "std::cout << (x) << std::endl << std::endl;\n",
    "std::cout << \"(y) = \" << std::endl;\n",
    "std::cout << (y) << std::endl << std::endl;\n",
    "\n",
    "std::cout << \"/* matrix-matrix product */\" << std::endl;\n",
    "std::cout << \"mm(x,y) = \" << std::endl;\n",
    "std::cout << torch::mm(x,y) << std::endl << std::endl;\n",
    "\n",
    "\n",
    "torch::Tensor a = torch::randint(20,{2,3,4});\n",
    "torch::Tensor b = torch::randint(20,{2,4,3});\n",
    "\n",
    "std::cout << \"/*batch matrix-matrix product: /*\" << std::endl;\n",
    "std::cout << \"/*If input is a (b×n×m) tensor, mat2 is a (b×m×p) tensor, /*\" << std::endl;\n",
    "std::cout << \"/*out will be a (b×n×p) tensor.*/\" << std::endl;\n",
    "std::cout << \"bmm(a,b) = \" << std::endl;\n",
    "std::cout << torch::bmm(a,b) << std::endl << std::endl;\n",
    "\n",
    "\n",
    "torch::Tensor a1 = torch::randint(3, {3,4});\n",
    "torch::Tensor a2 = torch::randint(3, {3,5});\n",
    "torch::Tensor a3 = torch::randint(3, {5,4});\n",
    "std::cout << \"(a1) = \" << std::endl;\n",
    "std::cout << (a1) << std::endl << std::endl;\n",
    "std::cout << \"(a2) = \" << std::endl;\n",
    "std::cout << (a2) << std::endl << std::endl;\n",
    "std::cout << \"(a3) = \" << std::endl;\n",
    "std::cout << (a3) << std::endl << std::endl;\n",
    "std::cout << \"/*addmm(input, mat1, mat2, *, beta=1, alpha=1)/*\" << std::endl;\n",
    "std::cout << \"/*out = beta * input + alpha * (mat1 * mat2) */\" << std::endl;\n",
    "std::cout << \"addmm(a1, a2, a3, 2, 3) = \" << std::endl;\n",
    "std::cout << torch::addmm(a1, a2, a3, 2, 3) << std::endl << std::endl;"
   ]
  },
  {
   "cell_type": "code",
   "execution_count": null,
   "id": "funded-senate",
   "metadata": {},
   "outputs": [],
   "source": []
  },
  {
   "cell_type": "markdown",
   "id": "sudden-tooth",
   "metadata": {},
   "source": [
    "关于tensor的一些基本运算"
   ]
  },
  {
   "cell_type": "code",
   "execution_count": 4,
   "id": "coordinate-stick",
   "metadata": {},
   "outputs": [
    {
     "name": "stdout",
     "output_type": "stream",
     "text": [
      "x = \n",
      " 2  2  2  2\n",
      " 2  2  2  2\n",
      " 2  2  2  2\n",
      "[ CPUFloatType{3,4} ]\n",
      "\n",
      "x.pow(3) = \n",
      " 8  8  8  8\n",
      " 8  8  8  8\n",
      " 8  8  8  8\n",
      "[ CPUFloatType{3,4} ]\n",
      "\n"
     ]
    }
   ],
   "source": [
    "torch::Tensor x = torch::ones({3,4});\n",
    "x += 1;\n",
    "std::cout << \"x = \" << std::endl << x << std::endl << std::endl;\n",
    "\n",
    "std::cout << \"x.pow(3) = \" << std::endl << x.pow(3) << std::endl << std::endl;\n"
   ]
  },
  {
   "cell_type": "code",
   "execution_count": 6,
   "id": "nonprofit-lesson",
   "metadata": {},
   "outputs": [
    {
     "name": "stdout",
     "output_type": "stream",
     "text": [
      "b = 10\n"
     ]
    }
   ],
   "source": [
    "int a = 10;\n",
    "const int b = a;\n",
    "\n",
    "\n",
    "std::cout << \"b = \" << b << std::endl;"
   ]
  },
  {
   "cell_type": "code",
   "execution_count": 7,
   "id": "corresponding-border",
   "metadata": {},
   "outputs": [
    {
     "name": "stderr",
     "output_type": "stream",
     "text": [
      "\u001b[1minput_line_17:3:15: \u001b[0m\u001b[0;1;31merror: \u001b[0m\u001b[1mconstexpr variable 'd' must be initialized by a constant expression\u001b[0m\n",
      "constexpr int d = c;\n",
      "\u001b[0;1;32m              ^   ~\n",
      "\u001b[0m\u001b[1minput_line_17:3:19: \u001b[0m\u001b[0;1;30mnote: \u001b[0mread of non-const variable 'c' is not allowed in a constant expression\u001b[0m\n",
      "constexpr int d = c;\n",
      "\u001b[0;1;32m                  ^\n",
      "\u001b[0m\u001b[1minput_line_17:2:6: \u001b[0m\u001b[0;1;30mnote: \u001b[0mdeclared here\u001b[0m\n",
      " int c = 5;\n",
      "\u001b[0;1;32m     ^\n",
      "\u001b[0m"
     ]
    },
    {
     "ename": "Interpreter Error",
     "evalue": "",
     "output_type": "error",
     "traceback": [
      "Interpreter Error: "
     ]
    }
   ],
   "source": [
    "int c = 5;\n",
    "constexpr int d = c;"
   ]
  },
  {
   "cell_type": "code",
   "execution_count": null,
   "id": "central-owner",
   "metadata": {},
   "outputs": [],
   "source": []
  }
 ],
 "metadata": {
  "kernelspec": {
   "display_name": "C++14",
   "language": "C++14",
   "name": "xcpp14"
  },
  "language_info": {
   "codemirror_mode": "text/x-c++src",
   "file_extension": ".cpp",
   "mimetype": "text/x-c++src",
   "name": "c++",
   "version": "14"
  }
 },
 "nbformat": 4,
 "nbformat_minor": 5
}
