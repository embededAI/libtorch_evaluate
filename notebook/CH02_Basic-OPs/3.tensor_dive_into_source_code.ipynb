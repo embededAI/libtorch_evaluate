{
 "cells": [
  {
   "cell_type": "markdown",
   "id": "altered-thanksgiving",
   "metadata": {},
   "source": [
    "# 1. torch::Tensor到底是什么\n",
    "\n",
    "\n",
    "ATen namespace下的Tensor，定义在：\n",
    "{pytorch src code}/aten/src/ATen/templates/TensorBody.h\n",
    "\n",
    "```\n",
    "\n",
    "```"
   ]
  },
  {
   "cell_type": "code",
   "execution_count": null,
   "id": "external-tokyo",
   "metadata": {},
   "outputs": [],
   "source": []
  }
 ],
 "metadata": {
  "kernelspec": {
   "display_name": "C++14",
   "language": "C++14",
   "name": "xcpp14"
  },
  "language_info": {
   "codemirror_mode": "text/x-c++src",
   "file_extension": ".cpp",
   "mimetype": "text/x-c++src",
   "name": "c++",
   "version": "14"
  }
 },
 "nbformat": 4,
 "nbformat_minor": 5
}
