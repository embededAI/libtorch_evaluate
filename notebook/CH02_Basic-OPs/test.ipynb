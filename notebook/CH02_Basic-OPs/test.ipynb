{
 "cells": [
  {
   "cell_type": "code",
   "execution_count": 1,
   "id": "packed-wrapping",
   "metadata": {},
   "outputs": [],
   "source": [
    "#include \"stdio.h\"\n",
    "#include \"stdlib.h\"\n",
    "#include <iostream>\n",
    "#include <vector>\n",
    "\n",
    "/*a workaround to solve cling issue*/\n",
    "#include \"../macos_cling_workaround.hpp\"\n",
    "/*set libtorch path, load libs*/\n",
    "#include \"../load_libtorch.hpp\"\n",
    "/*import custom defined macros*/\n",
    "#include \"../custom_def.hpp\"\n",
    "#include <torch/torch.h>"
   ]
  },
  {
   "cell_type": "code",
   "execution_count": 2,
   "id": "mediterranean-america",
   "metadata": {},
   "outputs": [],
   "source": [
    "std::cout << std::boolalpha;"
   ]
  },
  {
   "cell_type": "code",
   "execution_count": 3,
   "id": "special-friendly",
   "metadata": {},
   "outputs": [
    {
     "name": "stdout",
     "output_type": "stream",
     "text": [
      "false\n",
      "false\n",
      "false\n",
      "true\n"
     ]
    }
   ],
   "source": [
    "std::cout << std::is_same<char, unsigned char>::value << std::endl;\n",
    "std::cout << std::is_same<int, unsigned int>::value << std::endl;\n",
    "\n",
    "std::cout << std::is_same<char, int>::value << std::endl;\n",
    "std::cout << std::is_same<int, int>::value << std::endl;\n"
   ]
  },
  {
   "cell_type": "code",
   "execution_count": 6,
   "id": "spectacular-questionnaire",
   "metadata": {},
   "outputs": [
    {
     "name": "stdout",
     "output_type": "stream",
     "text": [
      "t = \n",
      " 6.5935e+22  7.0067e+22\n",
      " 8.8601e+14  8.4771e+11\n",
      "[ CPUFloatType{2,2} ]\n",
      "<<--->>\n",
      "\n"
     ]
    }
   ],
   "source": [
    "torch::Tensor t = torch::empty({2,2}, torch::requires_grad(true));\n",
    "\n",
    "printT(t);"
   ]
  },
  {
   "cell_type": "code",
   "execution_count": 17,
   "id": "heard-stereo",
   "metadata": {},
   "outputs": [
    {
     "name": "stdout",
     "output_type": "stream",
     "text": [
      "t = \n",
      "[ SparseCPUByteType{}\n",
      "indices:\n",
      "[ CPULongType{2,0} ]\n",
      "values:\n",
      "[ CPUByteType{0} ]\n",
      "size:\n",
      "[2, 2]\n",
      "]\n",
      "<<--->>\n",
      "\n"
     ]
    }
   ],
   "source": [
    "torch::Tensor t = torch::empty({2,2}, torch::device(torch::kCPU).dtype(torch::kByte).layout(torch::kSparse));\n",
    "\n",
    "printT(t);"
   ]
  },
  {
   "cell_type": "markdown",
   "id": "lucky-abraham",
   "metadata": {},
   "source": [
    "03.23\n",
    "\n",
    "问题1：\n",
    "TensorOptions里的requires_grad_属性如何最终影响到Tensor的？\n",
    "\n",
    "问题2：\n",
    "ATen中的Tensor（在TensorBody.h中定义）是如何与c10中的TensorOptions和TensorImpl联系起来的？"
   ]
  },
  {
   "cell_type": "code",
   "execution_count": 28,
   "id": "rocky-terry",
   "metadata": {},
   "outputs": [
    {
     "name": "stdout",
     "output_type": "stream",
     "text": [
      "t[1][1][1] = \n",
      "1\n",
      "[ CPUFloatType{} ]\n",
      "<<--->>\n",
      "\n",
      "t.numel() = \n",
      "60\n",
      "<<--->>\n",
      "\n",
      "t.dim() = \n",
      "3\n",
      "<<--->>\n",
      "\n",
      "t[0] = 3\n",
      "t[1] = 4\n",
      "t[2] = 5\n",
      "\n",
      "q[0] = 12\n",
      "q[1] = 5\n",
      "\n",
      "t.sum() = \n",
      "60\n",
      "[ CPUFloatType{} ]\n",
      "<<--->>\n",
      "\n"
     ]
    }
   ],
   "source": [
    "torch::Tensor t = torch::Tensor(torch::ones({3,4,5}));\n",
    "torch::Tensor p = torch::Tensor(torch::zeros({12,5}));\n",
    "\n",
    "printT(t[1][1][1]);\n",
    "\n",
    "printT(t.numel());\n",
    "\n",
    "printT(t.dim());\n",
    "\n",
    "auto s = t.sizes();\n",
    "for (int i = 0; i < s.size(); i++)\n",
    "    printf(\"t[%d] = %ld\\r\\n\", i, s[i]);\n",
    "printf(\"\\r\\n\");\n",
    "\n",
    "auto q = t.reshape_as(p);\n",
    "s = q.sizes();\n",
    "for (int i = 0; i < s.size(); i++)\n",
    "    printf(\"q[%d] = %ld\\r\\n\", i, s[i]);\n",
    "printf(\"\\r\\n\");\n",
    "\n",
    "printT(t.sum());\n",
    "\n"
   ]
  },
  {
   "cell_type": "code",
   "execution_count": null,
   "id": "tested-remark",
   "metadata": {},
   "outputs": [],
   "source": []
  }
 ],
 "metadata": {
  "kernelspec": {
   "display_name": "C++14",
   "language": "C++14",
   "name": "xcpp14"
  },
  "language_info": {
   "codemirror_mode": "text/x-c++src",
   "file_extension": ".cpp",
   "mimetype": "text/x-c++src",
   "name": "c++",
   "version": "14"
  }
 },
 "nbformat": 4,
 "nbformat_minor": 5
}
