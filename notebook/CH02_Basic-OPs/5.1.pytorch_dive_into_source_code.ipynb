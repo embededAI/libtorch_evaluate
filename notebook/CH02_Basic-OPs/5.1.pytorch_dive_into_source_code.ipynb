{
 "cells": [
  {
   "cell_type": "markdown",
   "id": "sunset-programming",
   "metadata": {},
   "source": [
    "# 1. A Brief History of PyTorch"
   ]
  },
  {
   "cell_type": "markdown",
   "id": "convenient-helping",
   "metadata": {},
   "source": [
    "<img src=\"./images/torch.png\" alt=\"Torch logo\" title=\"Torch\" width=\"20%\" height=\"20%\" style=\"vertical-align:left;margin:0px 5px\" /></img>\n",
    "2002年10月，Torch发布了第一个release，这是一个开源的机器学习库，提供了一种科学计算框架，以及一种基于Lua的脚本语言。Torch中包含了nn模块，专门用于构建神经网络用，包含了大量类似forward()、backward()、nn.Sequential()等深度学习常用函数接口。[注1](https://en.wikipedia.org/wiki/Torch_(machine_learning))\n",
    "<br />\n",
    "<br />\n",
    "<img src=\"./images/pytorch.png#\" alt=\"PyTorch logo\" title=\"PyTorch\" width=\"30%\" height=\"30%\" style=\"vertical-align:left;margin:0px 5px\"/></img>\n",
    "2016年10月，Facebook启动了内部项目：PyTorch，它使用了Torch的库，其开发者是Adam Paszke，而Adam Paszke的师傅是Soumith Chintala，Torch的核心开发者之一。因此，PyTorch项目一开始就与Torch项目有着紧密的联系。[注2](https://en.wikipedia.org/wiki/PyTorch)\n",
    "<br />\n",
    "<img src=\"./images/pytorch_x_caffe2.png#\" alt=\"pytorch_x_caffe2 logo\" title=\"pytorch_x_caffe2\" width=\"70%\" height=\"70%\" style=\"vertical-align:left;margin:0px 0px\" /></img>\n",
    "2017年4月，Facebook发布了caffe2，依然由caffe的创始人贾扬清操刀，专注于大规模分布式训练、移动端推理、新硬件的支持、模型量化等方向。自此，Facebook在深度学习框架领域同时拥有了pytorch和caffe2两大利器，前者专注于科研学术领域，后者专注与生产部署领域。但是好景不长，2018年3月，caffe2被合并入PyTorch项目，caffe2作为独立项目停止维护。正是由于caffe2的加持，PyTorch在生产端进行部署就有了基础。[注3](https://caffe2.ai/blog/2018/05/02/Caffe2_PyTorch_1_0.html)\n"
   ]
  },
  {
   "cell_type": "markdown",
   "id": "brazilian-river",
   "metadata": {},
   "source": [
    "[注3](https://caffe2.ai/blog/2018/05/02/Caffe2_PyTorch_1_0.html)\n",
    "和[注4](https://medium.com/@Synced/caffe2-merges-with-pytorch-a89c70ad9eb7)\n"
   ]
  },
  {
   "cell_type": "markdown",
   "id": "critical-edwards",
   "metadata": {},
   "source": [
    "SLOC\tDirectory\tSLOC-by-Language (Sorted)\n",
    "3046509 third_party     cpp=1920843,ansic=657870,python=190612,java=92748,\n",
    "                        objc=60156,asm=31495,fortran=24137,cs=23523,lisp=15098,php=11341,sh=10279,ruby=5327,xml=2556,pascal=507,awk=17\n",
    "520033  torch           cpp=403559,python=109738,ansic=6681,sh=55\n",
    "338961  caffe2          cpp=228778,python=99042,ansic=10953,yacc=144,lex=44\n",
    "227560  aten            cpp=186588,ansic=34406,asm=5503,python=597,sh=466\n",
    "165539  test            python=117331,cpp=48104,sh=104\n",
    "32104   c10             cpp=32104\n",
    "14016   android         cpp=8659,java=4760,sh=306,python=202,xml=89\n",
    "11505   tools           python=8732,cpp=2598,sh=175\n",
    "8851    benchmarks      python=8616,cpp=232,sh=3\n",
    "3990    binaries        cpp=3917,python=73\n",
    "2076    modules         cpp=2043,python=33\n",
    "1612    scripts         sh=1089,python=451,ruby=72\n",
    "613     top_dir         python=613\n",
    "597     docs            python=382,xml=185,sh=30\n",
    "542     docker          sh=542\n",
    "242     ios             sh=98,ruby=76,objc=51,python=17\n",
    "0       cmake           (none)\n",
    "0       mode            (none)\n",
    "0       submodules      (none)\n",
    "\n",
    "\n",
    "Totals grouped by language (dominant language first):\n",
    "cpp:        2837425 (64.86%)\n",
    "ansic:       709910 (16.23%)\n",
    "python:      536439 (12.26%)\n",
    "java:         97508 (2.23%)\n",
    "objc:         60207 (1.38%)\n",
    "asm:          36998 (0.85%)\n",
    "fortran:      24137 (0.55%)\n",
    "cs:           23523 (0.54%)\n",
    "lisp:         15098 (0.35%)\n",
    "sh:           13147 (0.30%)\n",
    "php:          11341 (0.26%)\n",
    "ruby:          5475 (0.13%)\n",
    "xml:           2830 (0.06%)\n",
    "pascal:         507 (0.01%)\n",
    "yacc:           144 (0.00%)\n",
    "lex:             44 (0.00%)\n",
    "awk:             17 (0.00%)\n"
   ]
  },
  {
   "cell_type": "markdown",
   "id": "understood-reynolds",
   "metadata": {},
   "source": [
    "# 2. Overview of PyTorch Source code"
   ]
  },
  {
   "cell_type": "code",
   "execution_count": null,
   "id": "described-durham",
   "metadata": {},
   "outputs": [],
   "source": []
  },
  {
   "cell_type": "markdown",
   "id": "empirical-blind",
   "metadata": {},
   "source": [
    "下面是Pytorch 1.7.1版本的源码的目录结构，来自github：\n",
    "\n",
    "![pytorch source code files](./images/pytorch_code_structure.png)"
   ]
  },
  {
   "cell_type": "code",
   "execution_count": null,
   "id": "neutral-cooperation",
   "metadata": {},
   "outputs": [],
   "source": []
  },
  {
   "cell_type": "code",
   "execution_count": null,
   "id": "wanted-eagle",
   "metadata": {},
   "outputs": [],
   "source": []
  },
  {
   "cell_type": "code",
   "execution_count": null,
   "id": "guilty-lodge",
   "metadata": {},
   "outputs": [],
   "source": []
  },
  {
   "cell_type": "code",
   "execution_count": null,
   "id": "chief-egypt",
   "metadata": {},
   "outputs": [],
   "source": []
  }
 ],
 "metadata": {
  "kernelspec": {
   "display_name": "Python 3",
   "language": "python",
   "name": "python3"
  },
  "language_info": {
   "codemirror_mode": {
    "name": "ipython",
    "version": 3
   },
   "file_extension": ".py",
   "mimetype": "text/x-python",
   "name": "python",
   "nbconvert_exporter": "python",
   "pygments_lexer": "ipython3",
   "version": "3.9.1"
  }
 },
 "nbformat": 4,
 "nbformat_minor": 5
}
