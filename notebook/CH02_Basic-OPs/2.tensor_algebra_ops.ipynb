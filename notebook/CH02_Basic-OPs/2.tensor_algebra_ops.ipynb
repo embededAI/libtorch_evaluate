{
 "cells": [
  {
   "cell_type": "code",
   "execution_count": 1,
   "id": "eligible-natural",
   "metadata": {},
   "outputs": [],
   "source": [
    "#include \"stdio.h\"\n",
    "#include \"stdlib.h\"\n",
    "#include <iostream>\n",
    "#include <vector>\n",
    "\n",
    "/*a workaround to solve cling issue*/\n",
    "#include \"../macos_cling_workaround.hpp\"\n",
    "/*set libtorch path, load libs*/\n",
    "#include \"../load_libtorch.hpp\"\n",
    "/*import custom defined macros*/\n",
    "#include \"../custom_def.hpp\"\n",
    "/*import libtorch header file*/\n",
    "#include <torch/torch.h>"
   ]
  },
  {
   "cell_type": "markdown",
   "id": "affected-trauma",
   "metadata": {},
   "source": [
    "# 线性代数运算\n",
    "\n",
    "\n",
    "| 函数                              | 功能                             |\n",
    "| :---------------------------------: | :---------------------------------: |\n",
    "| trace                             | 对角线元素之和(矩阵的迹)          |\n",
    "| diag                              | 对角线元素                       |\n",
    "| triu/tril                         | 矩阵的上三角/下三角，可指定偏移量 |\n",
    "| mm/bmm                            | 矩阵乘法，batch的矩阵乘法         |\n",
    "| addmm/addbmm/addmv/addr/baddbmm.. | 矩阵运算                         |\n",
    "| t                                 | 转置                            |\n",
    "| dot/cross                         | 内积/外积                        |\n",
    "| inverse                           | 求逆矩阵                         |\n",
    "| svd                               | 奇异值分解                       |"
   ]
  },
  {
   "cell_type": "markdown",
   "id": "reasonable-mailman",
   "metadata": {},
   "source": [
    "tensor的线性代数操作函数都集中在\n",
    "`{pytorch}/aten/src/ATen/native/LinearAlgebra.cpp` \n",
    "或\n",
    "`{pytorch}/aten/src/ATen/native/cuda/LinearAlgebra.cu`\n",
    "两个文件中；"
   ]
  },
  {
   "cell_type": "code",
   "execution_count": 2,
   "id": "judicial-owner",
   "metadata": {},
   "outputs": [
    {
     "name": "stdout",
     "output_type": "stream",
     "text": [
      "torch::trace(x) = \n",
      "5\n",
      "[ CPULongType{} ]\n",
      "<<--->>\n",
      "\n",
      "torch::diag(x) = \n",
      " 1\n",
      " 1\n",
      " 1\n",
      " 1\n",
      " 1\n",
      "[ CPULongType{5} ]\n",
      "<<--->>\n",
      "\n",
      "x = \n",
      "  3  22  31  31  15   0\n",
      "  4   8  27   3  13  27\n",
      "  3   6  24  23  25  12\n",
      " 12  14   4  35   3   7\n",
      "  0  24  11  12  35  33\n",
      " 34  20  14  29  20  29\n",
      "[ CPUFloatType{6,6} ]\n",
      "<<--->>\n",
      "\n",
      "torch::triu(x) = \n",
      "  3  22  31  31  15   0\n",
      "  0   8  27   3  13  27\n",
      "  0   0  24  23  25  12\n",
      "  0   0   0  35   3   7\n",
      "  0   0   0   0  35  33\n",
      "  0   0   0   0   0  29\n",
      "[ CPUFloatType{6,6} ]\n",
      "<<--->>\n",
      "\n",
      "torch::tril(x) = \n",
      "  3   0   0   0   0   0\n",
      "  4   8   0   0   0   0\n",
      "  3   6  24   0   0   0\n",
      " 12  14   4  35   0   0\n",
      "  0  24  11  12  35   0\n",
      " 34  20  14  29  20  29\n",
      "[ CPUFloatType{6,6} ]\n",
      "<<--->>\n",
      "\n"
     ]
    }
   ],
   "source": [
    "torch::Tensor x = torch::eye(5, torch::kInt64);\n",
    "printT(torch::trace(x));\n",
    "printT(torch::diag(x));\n",
    "\n",
    "x = torch::randint(36,{6,6});\n",
    "printT(x);\n",
    "printT(torch::triu(x));\n",
    "printT(torch::tril(x));"
   ]
  },
  {
   "cell_type": "code",
   "execution_count": 3,
   "id": "vulnerable-washington",
   "metadata": {},
   "outputs": [
    {
     "name": "stdout",
     "output_type": "stream",
     "text": [
      "x = \n",
      " 14  12   9   4\n",
      "  9  10  15  16\n",
      "  0   0  15  17\n",
      "[ CPUFloatType{3,4} ]\n",
      "<<--->>\n",
      "\n",
      "y = \n",
      "  6   3  13\n",
      " 11  13  18\n",
      " 12   4  10\n",
      " 16  18  14\n",
      "[ CPUFloatType{4,3} ]\n",
      "<<--->>\n",
      "\n",
      "/* matrix-matrix product */\n",
      "torch::mm(x,y) = \n",
      " 388  306  544\n",
      " 600  505  671\n",
      " 452  366  388\n",
      "[ CPUFloatType{3,3} ]\n",
      "<<--->>\n",
      "\n"
     ]
    }
   ],
   "source": [
    "torch::Tensor x = torch::randint(20,{3,4});\n",
    "torch::Tensor y = torch::randint(20,{4,3});\n",
    "printT(x);\n",
    "printT(y);\n",
    "\n",
    "std::cout << \"/* matrix-matrix product */\" << std::endl;\n",
    "printT(torch::mm(x,y));"
   ]
  },
  {
   "cell_type": "code",
   "execution_count": 4,
   "id": "funded-senate",
   "metadata": {},
   "outputs": [
    {
     "name": "stdout",
     "output_type": "stream",
     "text": [
      "a = \n",
      "(1,.,.) = \n",
      "  19  15   3  12\n",
      "  12  15   5   1\n",
      "  18   4  19   4\n",
      "\n",
      "(2,.,.) = \n",
      "  10  18   7  10\n",
      "   9   1   5  11\n",
      "  10  14   5  16\n",
      "[ CPUFloatType{2,3,4} ]\n",
      "<<--->>\n",
      "\n",
      "b = \n",
      "(1,.,.) = \n",
      "   7  15  18\n",
      "  15  16   9\n",
      "  16   2  13\n",
      "  16   8   1\n",
      "\n",
      "(2,.,.) = \n",
      "  12   2   8\n",
      "  12  18   2\n",
      "  12   8   3\n",
      "  15  12  11\n",
      "[ CPUFloatType{2,4,3} ]\n",
      "<<--->>\n",
      "\n",
      "/*batch matrix-matrix product: /*\n",
      "/*If input is a (b×n×m) tensor, mat2 is a (b×m×p) tensor, /*\n",
      "/*out will be a (b×n×p) tensor.*/\n",
      "torch::bmm(a,b) = \n",
      "(1,.,.) = \n",
      "  598  627  528\n",
      "  405  438  417\n",
      "  554  404  611\n",
      "\n",
      "(2,.,.) = \n",
      "  570  520  247\n",
      "  345  208  210\n",
      "  588  504  299\n",
      "[ CPUFloatType{2,3,3} ]\n",
      "<<--->>\n",
      "\n"
     ]
    }
   ],
   "source": [
    "torch::Tensor a = torch::randint(20,{2,3,4});\n",
    "torch::Tensor b = torch::randint(20,{2,4,3});\n",
    "printT(a);\n",
    "printT(b);\n",
    "\n",
    "std::cout << \"/*batch matrix-matrix product: /*\" << std::endl;\n",
    "std::cout << \"/*If input is a (b×n×m) tensor, mat2 is a (b×m×p) tensor, /*\" << std::endl;\n",
    "std::cout << \"/*out will be a (b×n×p) tensor.*/\" << std::endl;\n",
    "printT(torch::bmm(a,b));"
   ]
  },
  {
   "cell_type": "code",
   "execution_count": 5,
   "id": "comic-hormone",
   "metadata": {},
   "outputs": [
    {
     "name": "stdout",
     "output_type": "stream",
     "text": [
      "a1 = \n",
      " 0  1  2  1\n",
      " 1  1  2  0\n",
      " 2  1  2  2\n",
      "[ CPUFloatType{3,4} ]\n",
      "<<--->>\n",
      "\n",
      "a2 = \n",
      " 0  1  2  2  1\n",
      " 2  0  0  2  1\n",
      " 0  2  1  0  2\n",
      "[ CPUFloatType{3,5} ]\n",
      "<<--->>\n",
      "\n",
      "a3 = \n",
      " 2  1  2  1\n",
      " 0  2  0  1\n",
      " 0  2  2  0\n",
      " 1  1  0  1\n",
      " 2  1  1  0\n",
      "[ CPUFloatType{5,4} ]\n",
      "<<--->>\n",
      "\n",
      "/*addmm(input, mat1, mat2, *, beta=1, alpha=1)/*\n",
      "/*out = beta * input + alpha * (mat1 * mat2) */\n",
      "addmm(a1, a2, a3, 2, 3) = \n",
      "torch::addmm(a1, a2, a3, 2, 3) = \n",
      " 12  29  19  11\n",
      " 26  17  19  12\n",
      " 16  26  16  10\n",
      "[ CPUFloatType{3,4} ]\n",
      "<<--->>\n",
      "\n"
     ]
    }
   ],
   "source": [
    "torch::Tensor a1 = torch::randint(3, {3,4});\n",
    "torch::Tensor a2 = torch::randint(3, {3,5});\n",
    "torch::Tensor a3 = torch::randint(3, {5,4});\n",
    "printT(a1);\n",
    "printT(a2);\n",
    "printT(a3);\n",
    "\n",
    "std::cout << \"/*addmm(input, mat1, mat2, *, beta=1, alpha=1)/*\" << std::endl;\n",
    "std::cout << \"/*out = beta * input + alpha * (mat1 * mat2) */\" << std::endl;\n",
    "std::cout << \"addmm(a1, a2, a3, 2, 3) = \" << std::endl;\n",
    "printT(torch::addmm(a1, a2, a3, 2, 3));"
   ]
  },
  {
   "cell_type": "markdown",
   "id": "sudden-tooth",
   "metadata": {},
   "source": [
    "## 关于tensor的一些基本运算"
   ]
  },
  {
   "cell_type": "code",
   "execution_count": 4,
   "id": "coordinate-stick",
   "metadata": {},
   "outputs": [
    {
     "name": "stdout",
     "output_type": "stream",
     "text": [
      "x = \n",
      " 2  2  2  2\n",
      " 2  2  2  2\n",
      " 2  2  2  2\n",
      "[ CPUFloatType{3,4} ]\n",
      "\n",
      "x.pow(3) = \n",
      " 8  8  8  8\n",
      " 8  8  8  8\n",
      " 8  8  8  8\n",
      "[ CPUFloatType{3,4} ]\n",
      "\n"
     ]
    }
   ],
   "source": [
    "torch::Tensor x = torch::ones({3,4});\n",
    "x += 1;\n",
    "std::cout << \"x = \" << std::endl << x << std::endl << std::endl;\n",
    "\n",
    "std::cout << \"x.pow(3) = \" << std::endl << x.pow(3) << std::endl << std::endl;\n"
   ]
  },
  {
   "cell_type": "code",
   "execution_count": null,
   "id": "nonprofit-lesson",
   "metadata": {},
   "outputs": [],
   "source": []
  }
 ],
 "metadata": {
  "kernelspec": {
   "display_name": "C++14",
   "language": "C++14",
   "name": "xcpp14"
  },
  "language_info": {
   "codemirror_mode": "text/x-c++src",
   "file_extension": ".cpp",
   "mimetype": "text/x-c++src",
   "name": "c++",
   "version": "14"
  }
 },
 "nbformat": 4,
 "nbformat_minor": 5
}
