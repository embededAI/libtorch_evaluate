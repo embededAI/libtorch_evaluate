{
 "cells": [
  {
   "cell_type": "markdown",
   "id": "loaded-nothing",
   "metadata": {},
   "source": [
    "# Chapter 01 - 深度学习基础\n",
    "\n",
    "本部分内容与原书相同，请参考:\n",
    "https://github.com/ShusenTang/Dive-into-DL-PyTorch/blob/master/docs/chapter01_DL-intro/deep-learning-intro.md"
   ]
  }
 ],
 "metadata": {
  "kernelspec": {
   "display_name": "C++14",
   "language": "C++14",
   "name": "xcpp14"
  },
  "language_info": {
   "codemirror_mode": "text/x-c++src",
   "file_extension": ".cpp",
   "mimetype": "text/x-c++src",
   "name": "c++",
   "version": "14"
  }
 },
 "nbformat": 4,
 "nbformat_minor": 5
}
