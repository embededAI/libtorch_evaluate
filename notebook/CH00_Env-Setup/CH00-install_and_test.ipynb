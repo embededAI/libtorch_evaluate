{
 "cells": [
  {
   "cell_type": "markdown",
   "id": "focal-satisfaction",
   "metadata": {},
   "source": [
    "# Dive-into-DL-LibTorch\n",
    "\n",
    "`---《动手学深度学习》LibTorch（pytorch的c++库）版本`\n",
    "\n",
    "近年来，在服务端和边缘侧部署深度学习推理引擎时，人们逐渐从python过渡到c++编程，这是因为c/c++程序在执行效率等方面的优势使然，正如PyTorch官方教程（[USING THE PYTORCH C++ FRONTEND](https://pytorch.org/tutorials/advanced/cpp_frontend.html)）所述，相对于python，c++的优势有：\n",
    "* Low Latency Systems\n",
    "* Highly Multithreaded Environments\n",
    "* Existing C++ Codebases\n",
    "\n",
    "特别是多线程并发执行、程序执行效率、多媒体输入输出及编解码方面，c++还是非常灵活并好用的，当然了，其学习门槛也相对高一些。\n",
    "本项目正是为了解和熟悉libtorch api的使用以及掌握相关编程技巧而产生的，希望能对您有所帮助。"
   ]
  },
  {
   "cell_type": "markdown",
   "id": "lasting-nepal",
   "metadata": {},
   "source": [
    "# Chapter 00 - 配置可执行c++程序的jupyter notebook\n",
    "\n",
    "jupyter notebook作为一款时下流行的网页版的交互式计算工具，非常适合演示深度学习相关算法编程过程。以往jupyter notebook多支持python等解释性语言，但是借助于“**xeus-cling**”，jupyter notebook也能执行C++程序了！\n",
    "\n",
    "## 安装xeus-cling\n",
    "\n",
    "请先在电脑上准备好jupyter notebook，如果没有，推荐安装Anaconda 3， 具体操作请参考anaconda官网安装教程。\n",
    "\n",
    "执行下面语句，创建一个新的conda环境并安装xeus-cling：\n",
    "\n",
    "```sh\n",
    "conda create -n my_cpp_env python=3    \n",
    "conda activate my_cpp_env    \n",
    "conda install -c conda-forge xeus-cling    \n",
    "```\n",
    "\n",
    "关于xeus-cling的使用，推荐看<span class=\"mark\">[官方教程](https://xeus-cling.readthedocs.io/)</span>。\n",
    "\n",
    "\n",
    "## 编译安装libtorch\n",
    "\n",
    "虽然pytorch官网有现成编译好的版本，但是考虑的系统环境的兼容问题，还是推荐自行编译libtorch，具体方法请参考[libtorch (C++-only)](https://github.com/pytorch/pytorch/blob/master/docs/libtorch.rst)，我使用的是“**Building libtorch using CMake**”方式，另外，git clone完pytorch代码库后，要执行一下\"git submodule sync\"和\"git submodule update --init --recursive\"两条指令来同步sub module。\n",
    "```sh\n",
    "git clone -b master --recurse-submodule https://github.com/pytorch/pytorch.git\n",
    "cd pytorch\n",
    "git submodule sync\n",
    "git submodule update --init --recursive\n",
    "mkdir pytorch-build\n",
    "cd pytorch-build\n",
    "cmake -DBUILD_SHARED_LIBS:BOOL=ON -DCMAKE_BUILD_TYPE:STRING=Release -DPYTHON_EXECUTABLE:PATH=`which python3` -DCMAKE_INSTALL_PREFIX:PATH=../pytorch-install ../pytorch\n",
    "cmake --build . --target install\n",
    "```\n",
    "\n",
    "下面我们就体验一下在jupyter notebook中编写c++程序。\n",
    " \n",
    "> 注：笔者的环境是ubuntu 18.04 LTS + libtorch v1.7.1版本"
   ]
  },
  {
   "cell_type": "markdown",
   "id": "mounted-turning",
   "metadata": {},
   "source": [
    "## 配置第三方库以及头文件的路径\n",
    "\n",
    "因为没有配置cmake或者makefile的地方，因此，对于系统标准路径外的第三方库，我们需要手动导入。我分别在Ubuntu(18.04)和MacOS(High Sierra, 10.13.6)上进行了配置，因为cling的bug，我们在MacOS上编译自己的代码时，会遇到类似下面的报错：\n",
    "\n",
    "```\n",
    "cling::DynamicLibraryManager::loadLibrary(): dlopen(/Volumes/code/github/libtorch/pytorch-install/lib/libtorch.dylib, 9): \n",
    "* Library not loaded: @rpath/libtorch_cpu.dylib\n",
    "* Referenced from: /Volumes/code/github/libtorch/pytorch-install/lib/libtorch.dylib\n",
    "* Reason: image not found\n",
    "```\n",
    "\n",
    "我这边尝试过网络上的几种方案，包括[cling issue 370](https://github.com/root-project/cling/issues/370)中提到的手动编译cling的办法以及[Setting-Up-Xeus-Cling-Libtorch-OpenCV](https://krshrimali.github.io/Setting-Up-Xeus-Cling-Libtorch-OpenCV/)一文中提到的修改cmake文件中`set(TORCH_CXX_FLAGS \"-D_GLIBCXX_USE_CXX11_ABI=\")`为`set(TORCH_CXX_FLAGS \"-D_GLIBCXX_USE_CXX11_ABI=1\")`的办法，均不生效。最后，还是通过[xeus-cling issue 161](https://github.com/jupyter-xeus/xeus-cling/issues/161)的workaround来解决这个编译问题的，即在你的每个jupyter notebook文件前面先运行161 issue中给的workaround代码，因代码过长，此处不再引用，为方便起见，也可以把这段workaround代码放在头文件中，每次启动时include该头文件即可。代码具体内容请参见`macos_cling_workaround.hpp`文件。\n",
    "\n",
    "\n"
   ]
  },
  {
   "cell_type": "code",
   "execution_count": 1,
   "id": "sound-commodity",
   "metadata": {},
   "outputs": [],
   "source": [
    "#pragma cling add_library_path(\"/usr/local/lib\")\n",
    "#pragma cling add_include_path(\"/usr/local/include\")\n",
    "\n",
    "#if defined(__linux__)\n",
    "\n",
    "#pragma cling add_library_path(\"/home/ubuntu/liuhang/libtorch/pytorch-install/lib\")\n",
    "#pragma cling add_include_path(\"/home/ubuntu/liuhang/libtorch/pytorch-install/include\")\n",
    "#pragma cling add_include_path(\"/home/ubuntu/liuhang/libtorch/pytorch-install/include/torch/csrc/api/include\")\n",
    "\n",
    "#pragma cling load(\"libc10_cuda.so\")\n",
    "#pragma cling load(\"libc10.so\")\n",
    "#pragma cling load(\"libtorch.so\")\n",
    "\n",
    "#elif __APPLE__\n",
    "\n",
    "#pragma cling add_library_path(\"/Users/liuhang/codes/github/libtorch/release/lib\")\n",
    "#pragma cling add_include_path(\"/Users/liuhang/codes/github/libtorch/release/include\")\n",
    "#pragma cling add_include_path(\"/Users/liuhang/codes/github/libtorch/release/include/torch/csrc/api/include\")\n",
    "\n",
    "#pragma cling load(\"libtorch.dylib\")\n",
    "\n",
    "#endif"
   ]
  },
  {
   "cell_type": "markdown",
   "id": "responsible-merchant",
   "metadata": {},
   "source": [
    "> 显然，每次在jupyter notebook文件中显式的声明头文件/库文件路径，以及显式的加载动态库，确实是比较麻烦，因此，我建议还是把上述代码统一放到一个头文件中，这样会相对简洁一些。如下面例子所示，我将上述的声明都放在\"load_libtorch.hpp\"中。如果后续再引入opencv之类的第三方库，管理也会更便利一些。"
   ]
  },
  {
   "cell_type": "markdown",
   "id": "affecting-pulse",
   "metadata": {},
   "source": [
    "导入相关头文件，c/c++都可以。"
   ]
  },
  {
   "cell_type": "code",
   "execution_count": 1,
   "id": "english-individual",
   "metadata": {},
   "outputs": [],
   "source": [
    "#include \"stdio.h\"\n",
    "#include \"stdlib.h\"\n",
    "#include <iostream>\n",
    "\n",
    "#include \"../macos_cling_workaround.hpp\"\n",
    "#include \"../load_libtorch.hpp\"\n",
    "#include <torch/torch.h>"
   ]
  },
  {
   "cell_type": "markdown",
   "id": "mental-banking",
   "metadata": {},
   "source": [
    "打印你的“Hello world”！"
   ]
  },
  {
   "cell_type": "code",
   "execution_count": 2,
   "id": "broad-albania",
   "metadata": {},
   "outputs": [
    {
     "name": "stdout",
     "output_type": "stream",
     "text": [
      "Hello, jupyter-notebook!\r\n"
     ]
    },
    {
     "data": {
      "text/plain": [
       "26"
      ]
     },
     "execution_count": 2,
     "metadata": {},
     "output_type": "execute_result"
    }
   ],
   "source": [
    "printf(\"Hello, jupyter-notebook!\\r\\n\")"
   ]
  },
  {
   "cell_type": "code",
   "execution_count": 3,
   "id": "confused-induction",
   "metadata": {},
   "outputs": [
    {
     "name": "stdout",
     "output_type": "stream",
     "text": [
      "This is a c++ programme in jupyter notebook!\n"
     ]
    }
   ],
   "source": [
    "std::cout << \"This is a c++ programme in jupyter notebook!\" << std::endl;"
   ]
  },
  {
   "cell_type": "markdown",
   "id": "lined-differential",
   "metadata": {},
   "source": [
    "测试一下libtorch，创建一个tensor："
   ]
  },
  {
   "cell_type": "code",
   "execution_count": 4,
   "id": "renewable-american",
   "metadata": {},
   "outputs": [
    {
     "name": "stdout",
     "output_type": "stream",
     "text": [
      " 1  0  0  0  0\n",
      " 0  1  0  0  0\n",
      " 0  0  1  0  0\n",
      " 0  0  0  1  0\n",
      " 0  0  0  0  1\n",
      "[ CPUFloatType{5,5} ]\n"
     ]
    },
    {
     "data": {
      "text/plain": [
       "@0x102921c30"
      ]
     },
     "execution_count": 4,
     "metadata": {},
     "output_type": "execute_result"
    }
   ],
   "source": [
    "torch::Tensor tensor = torch::eye(5);\n",
    "std::cout << tensor << std::endl;\n",
    "    "
   ]
  },
  {
   "cell_type": "code",
   "execution_count": null,
   "id": "charitable-adoption",
   "metadata": {},
   "outputs": [],
   "source": []
  }
 ],
 "metadata": {
  "kernelspec": {
   "display_name": "C++14",
   "language": "C++14",
   "name": "xcpp14"
  },
  "language_info": {
   "codemirror_mode": "text/x-c++src",
   "file_extension": ".cpp",
   "mimetype": "text/x-c++src",
   "name": "c++",
   "version": "14"
  },
  "latex_envs": {
   "LaTeX_envs_menu_present": true,
   "autoclose": false,
   "autocomplete": true,
   "bibliofile": "biblio.bib",
   "cite_by": "apalike",
   "current_citInitial": 1,
   "eqLabelWithNumbers": true,
   "eqNumInitial": 1,
   "hotkeys": {
    "equation": "Ctrl-E",
    "itemize": "Ctrl-I"
   },
   "labels_anchors": false,
   "latex_user_defs": false,
   "report_style_numbering": false,
   "user_envs_cfg": false
  }
 },
 "nbformat": 4,
 "nbformat_minor": 5
}
