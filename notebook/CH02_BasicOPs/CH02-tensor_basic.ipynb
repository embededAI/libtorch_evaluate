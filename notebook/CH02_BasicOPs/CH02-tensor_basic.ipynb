{
 "cells": [
  {
   "cell_type": "code",
   "execution_count": null,
   "id": "cheap-algorithm",
   "metadata": {},
   "outputs": [],
   "source": [
    "#include \"stdio.h\"\n",
    "#include \"stdlib.h\"\n",
    "#include <iostream>\n",
    "\n",
    "#include \"../macos_cling_workaround.hpp\"\n",
    "#include \"../load_libtorch.hpp\"\n",
    "#include <torch/torch.h>"
   ]
  },
  {
   "cell_type": "markdown",
   "id": "round-dinner",
   "metadata": {},
   "source": [
    "# 1.创建一个Tensor"
   ]
  },
  {
   "cell_type": "markdown",
   "id": "large-project",
   "metadata": {},
   "source": [
    "创建未初始化的tensor："
   ]
  },
  {
   "cell_type": "code",
   "execution_count": null,
   "id": "electrical-hopkins",
   "metadata": {},
   "outputs": [],
   "source": [
    "torch::Tensor t1 = torch::empty(3, torch::kInt64);\n",
    "\n",
    "std::cout << t1 << std::endl;"
   ]
  },
  {
   "cell_type": "code",
   "execution_count": null,
   "id": "handmade-research",
   "metadata": {},
   "outputs": [],
   "source": [
    "torch::Tensor t2 = torch::empty({5,6}, torch::kInt32);\n",
    "std::cout << t2 << std::endl;"
   ]
  },
  {
   "cell_type": "code",
   "execution_count": null,
   "id": "foreign-italian",
   "metadata": {},
   "outputs": [],
   "source": [
    "torch::Tensor t3 = torch::empty({3,4,2}, torch::kInt8);\n",
    "std::cout << t3 << std::endl;"
   ]
  },
  {
   "cell_type": "markdown",
   "id": "competitive-stocks",
   "metadata": {},
   "source": [
    "创建值为0的tensor："
   ]
  },
  {
   "cell_type": "code",
   "execution_count": null,
   "id": "local-shock",
   "metadata": {},
   "outputs": [],
   "source": [
    "torch::Tensor x = torch::zeros({3, 4});\n",
    "std::cout << x << std::endl;\n",
    "\n",
    "torch::Tensor y = torch::zeros({3, 4}, torch::kInt);\n",
    "std::cout << y << std::endl;"
   ]
  },
  {
   "cell_type": "markdown",
   "id": "horizontal-labor",
   "metadata": {},
   "source": [
    "创建值为随机数的tensor："
   ]
  },
  {
   "cell_type": "code",
   "execution_count": null,
   "id": "rolled-personality",
   "metadata": {},
   "outputs": [],
   "source": [
    "torch::Tensor x = torch::rand({3, 4});\n",
    "std::cout << x << std::endl;\n",
    "std::cout << \"<<<=========>>>\" << std::endl << std::endl;\n",
    "\n",
    "torch::Tensor y = torch::rand({3, 4}, torch::kFloat64);\n",
    "std::cout << y << std::endl;\n",
    "std::cout << \"<<<=========>>>\" << std::endl << std::endl;\n",
    "\n",
    "torch::Tensor z = torch::randn({5, 3, 4}, torch::kFloat32);\n",
    "std::cout << z << std::endl;\n",
    "std::cout << \"<<<=========>>>\" << std::endl << std::endl;"
   ]
  },
  {
   "cell_type": "markdown",
   "id": "respected-comparative",
   "metadata": {},
   "source": [
    "根据已有tensor创建新的tensor："
   ]
  },
  {
   "cell_type": "code",
   "execution_count": null,
   "id": "imperial-georgia",
   "metadata": {},
   "outputs": [],
   "source": [
    "torch::Tensor t = torch::ones({3,3});\n",
    "t += 2;\n",
    "\n",
    "\n",
    "torch::Tensor a(t);\n",
    "std::cout << a << std::endl;\n",
    "std::cout << \"<<<=========>>>\" << std::endl << std::endl;"
   ]
  },
  {
   "cell_type": "code",
   "execution_count": null,
   "id": "respective-karen",
   "metadata": {},
   "outputs": [],
   "source": [
    "torch::Tensor a = torch::ones({5,3});\n",
    "a = torch::randn_like(a);\n",
    "\n",
    "std::cout << a << std::endl;\n",
    "std::cout << \"<<<=========>>>\" << std::endl << std::endl;"
   ]
  },
  {
   "cell_type": "markdown",
   "id": "global-sapphire",
   "metadata": {},
   "source": [
    "# 2.Tensor的相关运算"
   ]
  },
  {
   "cell_type": "code",
   "execution_count": null,
   "id": "hispanic-prevention",
   "metadata": {},
   "outputs": [],
   "source": []
  },
  {
   "cell_type": "markdown",
   "id": "effective-college",
   "metadata": {},
   "source": [
    "# 3.更进一步：PYTORCH C++ API的组成"
   ]
  },
  {
   "cell_type": "markdown",
   "id": "willing-tuesday",
   "metadata": {},
   "source": [
    "截止到PyTorch 1.7.1版本，其C++ API由5大部分组成，如下表所示：\n",
    "\n",
    "| 命名空间 | 功能描述  |\n",
    "| :----: | :---- |\n",
    "| **ATen**   | The foundational tensor and mathematical operation library on which all else is built. |\n",
    "| **Autograd**   | Augments ATen with automatic differentiation. |\n",
    "| **C++ Frontend**   | High level constructs for training and evaluation of machine learning models. |\n",
    "| **TorchScript**   | An interface to the TorchScript JIT compiler and interpreter. |\n",
    "| **C++ Extensions**   | A means of extending the Python API with custom C++ and CUDA routines. |\n"
   ]
  },
  {
   "cell_type": "markdown",
   "id": "extended-proxy",
   "metadata": {},
   "source": []
  },
  {
   "cell_type": "code",
   "execution_count": null,
   "id": "seventh-shannon",
   "metadata": {},
   "outputs": [],
   "source": []
  }
 ],
 "metadata": {
  "kernelspec": {
   "display_name": "C++14",
   "language": "C++14",
   "name": "xcpp14"
  },
  "language_info": {
   "codemirror_mode": "text/x-c++src",
   "file_extension": ".cpp",
   "mimetype": "text/x-c++src",
   "name": "c++",
   "version": "14"
  }
 },
 "nbformat": 4,
 "nbformat_minor": 5
}
